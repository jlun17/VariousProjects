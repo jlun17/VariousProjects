{
 "cells": [
  {
   "cell_type": "markdown",
   "metadata": {},
   "source": [
    "### Basic imports and wget function -- needs to be done every session"
   ]
  },
  {
   "cell_type": "code",
   "execution_count": 1,
   "metadata": {
    "collapsed": true
   },
   "outputs": [],
   "source": [
    "from subprocess import call\n",
    "import json\n",
    "import gmaps\n",
    "import os\n",
    "import math\n",
    "\n",
    "gmaps.configure(api_key=os.environ[\"GOOGLE_API_KEY\"])\n",
    "info_box_template = \"\"\"\n",
    "<header>Aircraft {Id}:</header>\n",
    "<dl>\n",
    "<dt>Airline</dt><dd>{Op}</dd>\n",
    "<dt>Model</dt><dd>{Mdl}</dd>\n",
    "<dt>From</dt><dd>{From}</dd>\n",
    "<dt>Destination</dt><dd>{To}</dd>\n",
    "</dl>\n",
    "\"\"\"\n",
    "marker_location = [0,0]\n",
    "\n",
    "def cleanData(data):\n",
    "    for aircraft in data['acList']:\n",
    "        frm = aircraft.get('From', 'no from')\n",
    "        dest = aircraft.get('To', 'no dest')\n",
    "        airline = aircraft.get('Op', 'no airline')\n",
    "        model = aircraft.get('Mdl', 'no model')\n",
    "        if(frm == 'no from'):\n",
    "            aircraft['From'] = 'Not Avaliable'\n",
    "        if(dest == 'no dest'):\n",
    "            aircraft['To'] = 'Not Avaliable'\n",
    "        if(airline == 'no airline'):\n",
    "            aircraft['Op'] = 'Not Avaliable'\n",
    "        if(model == 'no model'):\n",
    "            aircraft['Mdl'] = 'Not Avaliable'\n",
    "\n",
    "def getNewAircraftData(URL, jsonFile):\n",
    "    call([\"wget\", \"-O\", jsonFile, URL])\n",
    "    json_data = open(jsonFile).read()\n",
    "    aircraftData = json.loads(json_data)\n",
    "    return aircraftData\n",
    "\n",
    "def grabData():\n",
    "    URL = \"http://public-api.adsbexchange.com/VirtualRadar/AircraftList.json\"\n",
    "    jsonFile = \"AircraftList.json\"\n",
    "    data = getNewAircraftData(URL, jsonFile)\n",
    "    cleanData(data)\n",
    "    return data\n",
    "\n",
    "def distance(lat1, lon1, lat2, lon2):\n",
    "\n",
    "    rad_e = (3959)\n",
    "    rad_lat1 = math.radians(lat1)\n",
    "    rad_lon1 = math.radians(lon1)\n",
    "    rad_lat2 = math.radians(lat2)\n",
    "    rad_lon2 = math.radians(lon2)\n",
    "\n",
    "    change_in_lat = rad_lat2 - rad_lat1\n",
    "    change_in_lon = rad_lon2 - rad_lon1\n",
    "\n",
    "    a = ((math.sin(change_in_lat/2)**2)+(math.cos(rad_lat1)*(math.cos(rad_lat2))*(math.sin(change_in_lon/2)**2)))\n",
    "    c = 2*math.atan2(math.sqrt(a), math.sqrt(1-a))\n",
    "    d = rad_e * c\n",
    "    return d\n",
    "\n",
    "##data = grabData()"
   ]
  },
  {
   "cell_type": "markdown",
   "metadata": {},
   "source": [
    "### Tracks aircraft in a \"square\" around a center point"
   ]
  },
  {
   "cell_type": "code",
   "execution_count": 2,
   "metadata": {},
   "outputs": [
    {
     "ename": "JSONDecodeError",
     "evalue": "Expecting value: line 1 column 1 (char 0)",
     "output_type": "error",
     "traceback": [
      "\u001b[0;31m---------------------------------------------------------------------------\u001b[0m",
      "\u001b[0;31mJSONDecodeError\u001b[0m                           Traceback (most recent call last)",
      "\u001b[0;32m<ipython-input-2-bd388456be20>\u001b[0m in \u001b[0;36m<module>\u001b[0;34m()\u001b[0m\n\u001b[1;32m      4\u001b[0m \u001b[0mgrab_data\u001b[0m \u001b[0;34m=\u001b[0m \u001b[0;32mTrue\u001b[0m\u001b[0;34m\u001b[0m\u001b[0m\n\u001b[1;32m      5\u001b[0m \u001b[0;32mif\u001b[0m\u001b[0;34m(\u001b[0m\u001b[0mgrab_data\u001b[0m\u001b[0;34m)\u001b[0m\u001b[0;34m:\u001b[0m\u001b[0;34m\u001b[0m\u001b[0m\n\u001b[0;32m----> 6\u001b[0;31m     \u001b[0mdata\u001b[0m \u001b[0;34m=\u001b[0m \u001b[0mgrabData\u001b[0m\u001b[0;34m(\u001b[0m\u001b[0;34m)\u001b[0m\u001b[0;34m\u001b[0m\u001b[0m\n\u001b[0m\u001b[1;32m      7\u001b[0m \u001b[0mcenter_point\u001b[0m \u001b[0;34m=\u001b[0m \u001b[0mregis\u001b[0m\u001b[0;34m\u001b[0m\u001b[0m\n\u001b[1;32m      8\u001b[0m \u001b[0mdist\u001b[0m \u001b[0;34m=\u001b[0m \u001b[0;36m1\u001b[0m \u001b[0;31m##+/- lat/lon cordanants\u001b[0m\u001b[0;34m\u001b[0m\u001b[0m\n",
      "\u001b[0;32m<ipython-input-1-3694f197b1d7>\u001b[0m in \u001b[0;36mgrabData\u001b[0;34m()\u001b[0m\n\u001b[1;32m     41\u001b[0m     \u001b[0mURL\u001b[0m \u001b[0;34m=\u001b[0m \u001b[0;34m\"http://public-api.adsbexchange.com/VirtualRadar/AircraftList.json\"\u001b[0m\u001b[0;34m\u001b[0m\u001b[0m\n\u001b[1;32m     42\u001b[0m     \u001b[0mjsonFile\u001b[0m \u001b[0;34m=\u001b[0m \u001b[0;34m\"AircraftList.json\"\u001b[0m\u001b[0;34m\u001b[0m\u001b[0m\n\u001b[0;32m---> 43\u001b[0;31m     \u001b[0mdata\u001b[0m \u001b[0;34m=\u001b[0m \u001b[0mgetNewAircraftData\u001b[0m\u001b[0;34m(\u001b[0m\u001b[0mURL\u001b[0m\u001b[0;34m,\u001b[0m \u001b[0mjsonFile\u001b[0m\u001b[0;34m)\u001b[0m\u001b[0;34m\u001b[0m\u001b[0m\n\u001b[0m\u001b[1;32m     44\u001b[0m     \u001b[0mcleanData\u001b[0m\u001b[0;34m(\u001b[0m\u001b[0mdata\u001b[0m\u001b[0;34m)\u001b[0m\u001b[0;34m\u001b[0m\u001b[0m\n\u001b[1;32m     45\u001b[0m     \u001b[0;32mreturn\u001b[0m \u001b[0mdata\u001b[0m\u001b[0;34m\u001b[0m\u001b[0m\n",
      "\u001b[0;32m<ipython-input-1-3694f197b1d7>\u001b[0m in \u001b[0;36mgetNewAircraftData\u001b[0;34m(URL, jsonFile)\u001b[0m\n\u001b[1;32m     35\u001b[0m     \u001b[0mcall\u001b[0m\u001b[0;34m(\u001b[0m\u001b[0;34m[\u001b[0m\u001b[0;34m\"wget\"\u001b[0m\u001b[0;34m,\u001b[0m \u001b[0;34m\"-O\"\u001b[0m\u001b[0;34m,\u001b[0m \u001b[0mjsonFile\u001b[0m\u001b[0;34m,\u001b[0m \u001b[0mURL\u001b[0m\u001b[0;34m]\u001b[0m\u001b[0;34m)\u001b[0m\u001b[0;34m\u001b[0m\u001b[0m\n\u001b[1;32m     36\u001b[0m     \u001b[0mjson_data\u001b[0m \u001b[0;34m=\u001b[0m \u001b[0mopen\u001b[0m\u001b[0;34m(\u001b[0m\u001b[0mjsonFile\u001b[0m\u001b[0;34m)\u001b[0m\u001b[0;34m.\u001b[0m\u001b[0mread\u001b[0m\u001b[0;34m(\u001b[0m\u001b[0;34m)\u001b[0m\u001b[0;34m\u001b[0m\u001b[0m\n\u001b[0;32m---> 37\u001b[0;31m     \u001b[0maircraftData\u001b[0m \u001b[0;34m=\u001b[0m \u001b[0mjson\u001b[0m\u001b[0;34m.\u001b[0m\u001b[0mloads\u001b[0m\u001b[0;34m(\u001b[0m\u001b[0mjson_data\u001b[0m\u001b[0;34m)\u001b[0m\u001b[0;34m\u001b[0m\u001b[0m\n\u001b[0m\u001b[1;32m     38\u001b[0m     \u001b[0;32mreturn\u001b[0m \u001b[0maircraftData\u001b[0m\u001b[0;34m\u001b[0m\u001b[0m\n\u001b[1;32m     39\u001b[0m \u001b[0;34m\u001b[0m\u001b[0m\n",
      "\u001b[0;32m/Users/john/anaconda/lib/python3.6/json/__init__.py\u001b[0m in \u001b[0;36mloads\u001b[0;34m(s, encoding, cls, object_hook, parse_float, parse_int, parse_constant, object_pairs_hook, **kw)\u001b[0m\n\u001b[1;32m    352\u001b[0m             \u001b[0mparse_int\u001b[0m \u001b[0;32mis\u001b[0m \u001b[0;32mNone\u001b[0m \u001b[0;32mand\u001b[0m \u001b[0mparse_float\u001b[0m \u001b[0;32mis\u001b[0m \u001b[0;32mNone\u001b[0m \u001b[0;32mand\u001b[0m\u001b[0;34m\u001b[0m\u001b[0m\n\u001b[1;32m    353\u001b[0m             parse_constant is None and object_pairs_hook is None and not kw):\n\u001b[0;32m--> 354\u001b[0;31m         \u001b[0;32mreturn\u001b[0m \u001b[0m_default_decoder\u001b[0m\u001b[0;34m.\u001b[0m\u001b[0mdecode\u001b[0m\u001b[0;34m(\u001b[0m\u001b[0ms\u001b[0m\u001b[0;34m)\u001b[0m\u001b[0;34m\u001b[0m\u001b[0m\n\u001b[0m\u001b[1;32m    355\u001b[0m     \u001b[0;32mif\u001b[0m \u001b[0mcls\u001b[0m \u001b[0;32mis\u001b[0m \u001b[0;32mNone\u001b[0m\u001b[0;34m:\u001b[0m\u001b[0;34m\u001b[0m\u001b[0m\n\u001b[1;32m    356\u001b[0m         \u001b[0mcls\u001b[0m \u001b[0;34m=\u001b[0m \u001b[0mJSONDecoder\u001b[0m\u001b[0;34m\u001b[0m\u001b[0m\n",
      "\u001b[0;32m/Users/john/anaconda/lib/python3.6/json/decoder.py\u001b[0m in \u001b[0;36mdecode\u001b[0;34m(self, s, _w)\u001b[0m\n\u001b[1;32m    337\u001b[0m \u001b[0;34m\u001b[0m\u001b[0m\n\u001b[1;32m    338\u001b[0m         \"\"\"\n\u001b[0;32m--> 339\u001b[0;31m         \u001b[0mobj\u001b[0m\u001b[0;34m,\u001b[0m \u001b[0mend\u001b[0m \u001b[0;34m=\u001b[0m \u001b[0mself\u001b[0m\u001b[0;34m.\u001b[0m\u001b[0mraw_decode\u001b[0m\u001b[0;34m(\u001b[0m\u001b[0ms\u001b[0m\u001b[0;34m,\u001b[0m \u001b[0midx\u001b[0m\u001b[0;34m=\u001b[0m\u001b[0m_w\u001b[0m\u001b[0;34m(\u001b[0m\u001b[0ms\u001b[0m\u001b[0;34m,\u001b[0m \u001b[0;36m0\u001b[0m\u001b[0;34m)\u001b[0m\u001b[0;34m.\u001b[0m\u001b[0mend\u001b[0m\u001b[0;34m(\u001b[0m\u001b[0;34m)\u001b[0m\u001b[0;34m)\u001b[0m\u001b[0;34m\u001b[0m\u001b[0m\n\u001b[0m\u001b[1;32m    340\u001b[0m         \u001b[0mend\u001b[0m \u001b[0;34m=\u001b[0m \u001b[0m_w\u001b[0m\u001b[0;34m(\u001b[0m\u001b[0ms\u001b[0m\u001b[0;34m,\u001b[0m \u001b[0mend\u001b[0m\u001b[0;34m)\u001b[0m\u001b[0;34m.\u001b[0m\u001b[0mend\u001b[0m\u001b[0;34m(\u001b[0m\u001b[0;34m)\u001b[0m\u001b[0;34m\u001b[0m\u001b[0m\n\u001b[1;32m    341\u001b[0m         \u001b[0;32mif\u001b[0m \u001b[0mend\u001b[0m \u001b[0;34m!=\u001b[0m \u001b[0mlen\u001b[0m\u001b[0;34m(\u001b[0m\u001b[0ms\u001b[0m\u001b[0;34m)\u001b[0m\u001b[0;34m:\u001b[0m\u001b[0;34m\u001b[0m\u001b[0m\n",
      "\u001b[0;32m/Users/john/anaconda/lib/python3.6/json/decoder.py\u001b[0m in \u001b[0;36mraw_decode\u001b[0;34m(self, s, idx)\u001b[0m\n\u001b[1;32m    355\u001b[0m             \u001b[0mobj\u001b[0m\u001b[0;34m,\u001b[0m \u001b[0mend\u001b[0m \u001b[0;34m=\u001b[0m \u001b[0mself\u001b[0m\u001b[0;34m.\u001b[0m\u001b[0mscan_once\u001b[0m\u001b[0;34m(\u001b[0m\u001b[0ms\u001b[0m\u001b[0;34m,\u001b[0m \u001b[0midx\u001b[0m\u001b[0;34m)\u001b[0m\u001b[0;34m\u001b[0m\u001b[0m\n\u001b[1;32m    356\u001b[0m         \u001b[0;32mexcept\u001b[0m \u001b[0mStopIteration\u001b[0m \u001b[0;32mas\u001b[0m \u001b[0merr\u001b[0m\u001b[0;34m:\u001b[0m\u001b[0;34m\u001b[0m\u001b[0m\n\u001b[0;32m--> 357\u001b[0;31m             \u001b[0;32mraise\u001b[0m \u001b[0mJSONDecodeError\u001b[0m\u001b[0;34m(\u001b[0m\u001b[0;34m\"Expecting value\"\u001b[0m\u001b[0;34m,\u001b[0m \u001b[0ms\u001b[0m\u001b[0;34m,\u001b[0m \u001b[0merr\u001b[0m\u001b[0;34m.\u001b[0m\u001b[0mvalue\u001b[0m\u001b[0;34m)\u001b[0m \u001b[0;32mfrom\u001b[0m \u001b[0;32mNone\u001b[0m\u001b[0;34m\u001b[0m\u001b[0m\n\u001b[0m\u001b[1;32m    358\u001b[0m         \u001b[0;32mreturn\u001b[0m \u001b[0mobj\u001b[0m\u001b[0;34m,\u001b[0m \u001b[0mend\u001b[0m\u001b[0;34m\u001b[0m\u001b[0m\n",
      "\u001b[0;31mJSONDecodeError\u001b[0m: Expecting value: line 1 column 1 (char 0)"
     ]
    }
   ],
   "source": [
    "lovelandSkiArea = (39.680395, -105.897961)\n",
    "myHouse = (39.921991, -104.955664)\n",
    "regis = (39.788484, -105.033411)\n",
    "grab_data = True\n",
    "if(grab_data):\n",
    "    data = grabData()\n",
    "center_point = regis\n",
    "dist = 1 ##+/- lat/lon cordanants\n",
    "count = 0\n",
    "map = gmaps.figure(center=center_point, zoom_level=10, map_type='HYBRID')\n",
    "for aircraft in data['acList']:\n",
    "    lat = aircraft.get('Lat', 'no lat')\n",
    "    lon = aircraft.get('Long', 'no lon')\n",
    "    if(lat == 'no lat' or lon == 'no lon'):\n",
    "        continue\n",
    "    if((lat > (center_point[0] - dist)) and (lat < (center_point[0] + dist))):\n",
    "        if((lon > (center_point[1] - dist)) and (lon < (center_point[1] + dist))):\n",
    "            marker_location[0] = lat\n",
    "            marker_location[1] = lon\n",
    "            aircraft_info = [info_box_template.format(**aircraft)]\n",
    "            marker = gmaps.marker_layer([marker_location], info_box_content=aircraft_info)\n",
    "            map.add_layer(marker)\n",
    "            count += 1\n",
    "print(count)\n",
    "\n",
    "map\n"
   ]
  },
  {
   "cell_type": "markdown",
   "metadata": {},
   "source": [
    "### Targets a single airline"
   ]
  },
  {
   "cell_type": "code",
   "execution_count": null,
   "metadata": {
    "collapsed": true
   },
   "outputs": [],
   "source": [
    "grab_data = True\n",
    "if(grab_data):\n",
    "    data = grabData()\n",
    "target_airline = 'United Airlines'\n",
    "map = gmaps.figure(map_type='HYBRID')\n",
    "for aircraft in data['acList']:\n",
    "    airline = aircraft.get('Op', 'no airline')\n",
    "    lat = aircraft.get('Lat', 'no lat')\n",
    "    lon = aircraft.get('Long', 'no lon')\n",
    "    if(lat == 'no lat' or lon == 'no lon'):\n",
    "        continue\n",
    "    if(airline.lower().__contains__(target_airline.lower())):\n",
    "        marker_location[0] = lat\n",
    "        marker_location[1] = lon\n",
    "        aircraft_info = [info_box_template.format(**aircraft)]\n",
    "        marker = gmaps.marker_layer([marker_location], info_box_content=aircraft_info)\n",
    "        map.add_layer(marker)\n",
    "\n",
    "map\n"
   ]
  },
  {
   "cell_type": "markdown",
   "metadata": {},
   "source": [
    "### Library of airports"
   ]
  },
  {
   "cell_type": "code",
   "execution_count": null,
   "metadata": {
    "collapsed": true
   },
   "outputs": [],
   "source": [
    "DIA = 'KDEN Denver, United States'\n",
    "MSP = 'KMSP Minneapolis-St Paul International/Wold-Chamberlain, Minneapolis, United States'\n",
    "LAX = 'KLAX Los Angeles, United States'\n",
    "SFO = 'KSFO San Francisco, United States'\n",
    "LGA = 'KLGA La Guardia, New York, United States'\n",
    "EWR = 'KEWR Newark Liberty, United States'\n",
    "DUB = 'EIDW Dublin, Ireland'\n",
    "MDW = 'KMDW Chicago Midway, United States'\n",
    "ORD = 'KORD Chicago O\\'Hare, United States'\n",
    "SAT = 'KSAT San Antonio, United States'\n",
    "SAN = 'KSAN San Diego, United States'\n",
    "IAD = 'KIAD Washington Dulles, United States'\n",
    "MCO = 'KMCO Orlando, United States'\n",
    "DTW = 'KDTW Detroit Metropolitan Wayne County, United States'\n",
    "GHP = 'EGPH Edinburgh, United Kingdom'"
   ]
  },
  {
   "cell_type": "markdown",
   "metadata": {
    "collapsed": true
   },
   "source": [
    "### Targets the destination airport only"
   ]
  },
  {
   "cell_type": "code",
   "execution_count": null,
   "metadata": {
    "collapsed": true
   },
   "outputs": [],
   "source": [
    "grab_data = True\n",
    "if(grab_data):\n",
    "    data = grabData()\n",
    "target_dest = LAX\n",
    "map = gmaps.figure(map_type='HYBRID')\n",
    "for aircraft in data['acList']:\n",
    "    dest = aircraft.get('To', 'no dest')\n",
    "    lat = aircraft.get('Lat', 'no lat')\n",
    "    lon = aircraft.get('Long', 'no lon')\n",
    "    if(lat == 'no lat' or lon == 'no lon'):\n",
    "        continue\n",
    "    if(dest == target_dest):\n",
    "        marker_location[0] = lat\n",
    "        marker_location[1] = lon\n",
    "        aircraft_info = [info_box_template.format(**aircraft)]\n",
    "        marker = gmaps.marker_layer([marker_location], info_box_content=aircraft_info)\n",
    "        map.add_layer(marker)\n",
    "\n",
    "map\n"
   ]
  },
  {
   "cell_type": "markdown",
   "metadata": {},
   "source": [
    "### Targets the airport left from only"
   ]
  },
  {
   "cell_type": "code",
   "execution_count": null,
   "metadata": {
    "collapsed": true
   },
   "outputs": [],
   "source": [
    "grab_data = True\n",
    "if(grab_data):\n",
    "    data = grabData()\n",
    "target_from = EWR\n",
    "map = gmaps.figure(map_type='HYBRID')\n",
    "for aircraft in data['acList']:\n",
    "    frm = aircraft.get('From', 'no frm')\n",
    "    lat = aircraft.get('Lat', 'no lat')\n",
    "    lon = aircraft.get('Long', 'no lon')\n",
    "    if(lat == 'no lat' or lon == 'no lon'):\n",
    "        continue\n",
    "    if(frm == target_from):\n",
    "        marker_location[0] = lat\n",
    "        marker_location[1] = lon\n",
    "        aircraft_info = [info_box_template.format(**aircraft)]\n",
    "        marker = gmaps.marker_layer([marker_location], info_box_content=aircraft_info)\n",
    "        map.add_layer(marker)\n",
    "\n",
    "map\n"
   ]
  },
  {
   "cell_type": "markdown",
   "metadata": {},
   "source": [
    "### Targets aircraft to AND from somewhere"
   ]
  },
  {
   "cell_type": "code",
   "execution_count": null,
   "metadata": {
    "collapsed": true
   },
   "outputs": [],
   "source": [
    "grab_data = True\n",
    "if(grab_data):\n",
    "    data = grabData()\n",
    "target_from = DTW\n",
    "target_dest = DIA\n",
    "map = gmaps.figure(map_type='HYBRID')\n",
    "for aircraft in data['acList']:\n",
    "    dest = aircraft.get('To', 'no dest')\n",
    "    frm = aircraft.get('From', 'no frm')\n",
    "    lat = aircraft.get('Lat', 'no lat')\n",
    "    lon = aircraft.get('Long', 'no lon')\n",
    "    if(lat == 'no lat' or lon == 'no lon'):\n",
    "        continue\n",
    "    if(frm.lower().__contains__(target_from.lower()) and dest.lower().__contains__(target_dest.lower())):\n",
    "        marker_location[0] = lat\n",
    "        marker_location[1] = lon\n",
    "        aircraft_info = [info_box_template.format(**aircraft)]\n",
    "        marker = gmaps.marker_layer([marker_location], info_box_content=aircraft_info)\n",
    "        map.add_layer(marker)\n",
    "\n",
    "map\n"
   ]
  },
  {
   "cell_type": "markdown",
   "metadata": {
    "collapsed": true
   },
   "source": [
    "### Targets an aircraft by ID"
   ]
  },
  {
   "cell_type": "code",
   "execution_count": null,
   "metadata": {
    "collapsed": true
   },
   "outputs": [],
   "source": [
    "grab_data = True\n",
    "if(grab_data):\n",
    "    data = grabData()\n",
    "target_ID = 10528990\n",
    "alt = 0\n",
    "map = gmaps.figure(map_type='HYBRID')\n",
    "for aircraft in data['acList']:\n",
    "    ID = aircraft.get('Id', 'no id')\n",
    "    lat = aircraft.get('Lat', 'no lat')\n",
    "    lon = aircraft.get('Long', 'no lon')\n",
    "    alt = aircraft.get('Alt', 'no alt')\n",
    "    spd = aircraft.get('Spd', 'no spd')\n",
    "    if(lat == 'no lat' or lon == 'no lon'):\n",
    "        continue\n",
    "    if(ID == target_ID):\n",
    "        marker_location[0] = lat\n",
    "        marker_location[1] = lon\n",
    "        aircraft_info = [info_box_template.format(**aircraft)]\n",
    "        marker = gmaps.marker_layer([marker_location], info_box_content=aircraft_info)\n",
    "        map.add_layer(marker)\n",
    "     \n",
    "dest_loc = [33.936527, -118.397243]\n",
    "airportMarker = gmaps.marker_layer([dest_loc])\n",
    "map.add_layer(airportMarker)\n",
    "\n",
    "dist = distance(dest_loc[0], dest_loc[1], marker_location[0], marker_location[1])\n",
    "\n",
    "print(round(dist, 4), 'miles to go')\n",
    "print('Altitude:', alt)\n",
    "print('Speed:', spd)\n",
    "\n",
    "map\n"
   ]
  },
  {
   "cell_type": "markdown",
   "metadata": {},
   "source": [
    "### Targets an aircraft model"
   ]
  },
  {
   "cell_type": "code",
   "execution_count": null,
   "metadata": {
    "collapsed": true
   },
   "outputs": [],
   "source": [
    "grab_data = True\n",
    "if(grab_data):\n",
    "    data = grabData()\n",
    "target_model = 'Boeing 757-200'\n",
    "map = gmaps.figure(map_type='HYBRID')\n",
    "for aircraft in data['acList']:\n",
    "    model = aircraft.get('Mdl', 'no mdl')\n",
    "    lat = aircraft.get('Lat', 'no lat')\n",
    "    lon = aircraft.get('Long', 'no lon')\n",
    "    if(lat == 'no lat' or lon == 'no lon'):\n",
    "        continue\n",
    "    if(model.lower().__contains__(target_model.lower())):\n",
    "        marker_location[0] = lat\n",
    "        marker_location[1] = lon\n",
    "        aircraft_info = [info_box_template.format(**aircraft)]\n",
    "        marker = gmaps.marker_layer([marker_location], info_box_content=aircraft_info)\n",
    "        map.add_layer(marker)\n",
    "\n",
    "map\n"
   ]
  },
  {
   "cell_type": "code",
   "execution_count": null,
   "metadata": {
    "collapsed": true
   },
   "outputs": [],
   "source": []
  }
 ],
 "metadata": {
  "kernelspec": {
   "display_name": "Python 3",
   "language": "python",
   "name": "python3"
  },
  "language_info": {
   "codemirror_mode": {
    "name": "ipython",
    "version": 3
   },
   "file_extension": ".py",
   "mimetype": "text/x-python",
   "name": "python",
   "nbconvert_exporter": "python",
   "pygments_lexer": "ipython3",
   "version": "3.6.6"
  }
 },
 "nbformat": 4,
 "nbformat_minor": 2
}
