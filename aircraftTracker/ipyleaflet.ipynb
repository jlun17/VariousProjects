{
 "cells": [
  {
   "cell_type": "code",
   "execution_count": 11,
   "metadata": {},
   "outputs": [
    {
     "name": "stdout",
     "output_type": "stream",
     "text": [
      "Requirement already satisfied: ipyleaflet in /Users/john/anaconda/lib/python3.6/site-packages\n",
      "Requirement already satisfied: ipywidgets<8,>=7.0.0 in /Users/john/anaconda/lib/python3.6/site-packages (from ipyleaflet)\n",
      "Requirement already satisfied: traittypes<3,>=0.2.1 in /Users/john/anaconda/lib/python3.6/site-packages (from ipyleaflet)\n",
      "Collecting xarray<0.10.8,>=0.10 (from ipyleaflet)\n",
      "  Using cached https://files.pythonhosted.org/packages/03/8a/08a996f9552c65ad955977d7a13fc3c423a90ca457373c3cb7caafb67b97/xarray-0.10.7-py2.py3-none-any.whl\n",
      "Requirement already satisfied: branca<0.4,>=0.3.1 in /Users/john/anaconda/lib/python3.6/site-packages (from ipyleaflet)\n",
      "Requirement already satisfied: ipython>=4.0.0; python_version >= \"3.3\" in /Users/john/anaconda/lib/python3.6/site-packages (from ipywidgets<8,>=7.0.0->ipyleaflet)\n",
      "Requirement already satisfied: nbformat>=4.2.0 in /Users/john/anaconda/lib/python3.6/site-packages (from ipywidgets<8,>=7.0.0->ipyleaflet)\n",
      "Requirement already satisfied: traitlets>=4.3.1 in /Users/john/anaconda/lib/python3.6/site-packages (from ipywidgets<8,>=7.0.0->ipyleaflet)\n",
      "Requirement already satisfied: widgetsnbextension~=3.4.0 in /Users/john/anaconda/lib/python3.6/site-packages (from ipywidgets<8,>=7.0.0->ipyleaflet)\n",
      "Requirement already satisfied: ipykernel>=4.5.1 in /Users/john/anaconda/lib/python3.6/site-packages (from ipywidgets<8,>=7.0.0->ipyleaflet)\n",
      "Requirement already satisfied: pandas>=0.18.0 in /Users/john/anaconda/lib/python3.6/site-packages (from xarray<0.10.8,>=0.10->ipyleaflet)\n",
      "Requirement already satisfied: numpy>=1.11 in /Users/john/anaconda/lib/python3.6/site-packages (from xarray<0.10.8,>=0.10->ipyleaflet)\n",
      "Requirement already satisfied: six in /Users/john/anaconda/lib/python3.6/site-packages (from branca<0.4,>=0.3.1->ipyleaflet)\n",
      "Requirement already satisfied: jinja2 in /Users/john/anaconda/lib/python3.6/site-packages (from branca<0.4,>=0.3.1->ipyleaflet)\n",
      "Requirement already satisfied: notebook>=4.4.1 in /Users/john/anaconda/lib/python3.6/site-packages (from widgetsnbextension~=3.4.0->ipywidgets<8,>=7.0.0->ipyleaflet)\n",
      "Requirement already satisfied: python-dateutil>=2.5.0 in /Users/john/anaconda/lib/python3.6/site-packages (from pandas>=0.18.0->xarray<0.10.8,>=0.10->ipyleaflet)\n",
      "Requirement already satisfied: pytz>=2011k in /Users/john/anaconda/lib/python3.6/site-packages (from pandas>=0.18.0->xarray<0.10.8,>=0.10->ipyleaflet)\n",
      "Requirement already satisfied: MarkupSafe>=0.23 in /Users/john/anaconda/lib/python3.6/site-packages (from jinja2->branca<0.4,>=0.3.1->ipyleaflet)\n",
      "Installing collected packages: xarray\n",
      "  Found existing installation: xarray 0.10.9\n",
      "    Uninstalling xarray-0.10.9:\n",
      "      Successfully uninstalled xarray-0.10.9\n",
      "Successfully installed xarray-0.10.7\n",
      "\u001b[33mYou are using pip version 9.0.1, however version 18.1 is available.\n",
      "You should consider upgrading via the 'pip install --upgrade pip' command.\u001b[0m\n",
      "Enabling notebook extension jupyter-leaflet/extension...\n",
      "      - Validating: \u001b[32mOK\u001b[0m\n"
     ]
    }
   ],
   "source": [
    "!pip install ipyleaflet\n",
    "!jupyter nbextension enable --py --sys-prefix ipyleaflet  # can be skipped for notebook 5.3 and above"
   ]
  },
  {
   "cell_type": "code",
   "execution_count": 26,
   "metadata": {},
   "outputs": [
    {
     "name": "stdout",
     "output_type": "stream",
     "text": [
      "Map(basemap={'url': 'https://{s}.tile.openstreetmap.org/{z}/{x}/{y}.png', 'max_zoom': 19, 'attribution': 'Map data (c) <a href=\"https://openstreetmap.org\">OpenStreetMap</a> contributors'}, center=[42, -104], layers=(TileLayer(base=True, max_zoom=19, min_zoom=1, options=['attribution', 'detect_retina', 'max_zoom', 'min_zoom', 'tile_size']),), options=['attribution_control', 'basemap', 'bounce_at_zoom_limits', 'box_zoom', 'center', 'close_popup_on_click', 'double_click_zoom', 'dragging', 'inertia', 'inertia_deceleration', 'inertia_max_speed', 'interpolation', 'keyboard', 'keyboard_pan_offset', 'keyboard_zoom_offset', 'max_zoom', 'min_zoom', 'scroll_wheel_zoom', 'tap', 'tap_tolerance', 'touch_zoom', 'world_copy_jump', 'zoom', 'zoom_animation_threshold', 'zoom_control', 'zoom_start'], zoom=6)\n"
     ]
    }
   ],
   "source": [
    "from ipyleaflet import *\n",
    "map = Map(center=(42, -104), zoom=6)\n",
    "map\n",
    "print(map)"
   ]
  },
  {
   "cell_type": "code",
   "execution_count": null,
   "metadata": {
    "collapsed": true
   },
   "outputs": [],
   "source": []
  }
 ],
 "metadata": {
  "kernelspec": {
   "display_name": "Python 3",
   "language": "python",
   "name": "python3"
  },
  "language_info": {
   "codemirror_mode": {
    "name": "ipython",
    "version": 3
   },
   "file_extension": ".py",
   "mimetype": "text/x-python",
   "name": "python",
   "nbconvert_exporter": "python",
   "pygments_lexer": "ipython3",
   "version": "3.6.7"
  }
 },
 "nbformat": 4,
 "nbformat_minor": 2
}
