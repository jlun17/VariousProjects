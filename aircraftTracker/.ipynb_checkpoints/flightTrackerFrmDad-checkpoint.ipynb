{
 "cells": [
  {
   "cell_type": "code",
   "execution_count": 1,
   "metadata": {
    "format": "tab"
   },
   "outputs": [
    {
     "data": {
      "application/vnd.jupyter.widget-view+json": {
       "model_id": "12febdc8d5614697b72f2892363b07df",
       "version_major": 2,
       "version_minor": 0
      },
      "text/plain": [
       "Map(basemap={'url': 'https://{s}.tile.openstreetmap.org/{z}/{x}/{y}.png', 'max_zoom': 19, 'attribution': 'Map …"
      ]
     },
     "metadata": {},
     "output_type": "display_data"
    }
   ],
   "source": [
    "from ipyleaflet import (Map,Marker)\n",
    "center = [37.605789, -122.37947]\n",
    "m = Map(center=center, zoom=10)\n",
    "\n",
    "marker = Marker(location=center, draggable = False)\n",
    "m.add_layer(marker);\n",
    "m"
   ]
  },
  {
   "cell_type": "code",
   "execution_count": 2,
   "metadata": {
    "collapsed": true
   },
   "outputs": [],
   "source": [
    "from ipyleaflet import (Map, Marker)\n",
    "\n",
    "from __future__ import print_function\n",
    "from __future__ import division\n",
    "from subprocess import call\n",
    "from pprint import pprint\n",
    "import sys\n",
    "import math\n",
    "import json\n",
    "\n",
    "\n",
    "def getNewAircraftData(URL, jsonFile):\n",
    "\n",
    "    call([\"wget\", \"-O\", jsonFile, URL])\n",
    "\n",
    "    json_data = open(jsonFile).read()\n",
    "    aircraftData = json.loads(json_data)\n",
    "\n",
    "    return aircraftData\n",
    "\n",
    "def getAircraftInRadius(my_lat, my_lon, radius, data):\n",
    "    center = [my_lat, my_lon]\n",
    "    print('center = {}'.format(str(center)))\n",
    "    \n",
    "    m = Map(center=center, zoom=10)\n",
    "    \n",
    "    for aircraft in data['acList']:\n",
    "        aid = aircraft.get('Id', 'no aid')\n",
    "        alt = aircraft.get('Alt', 'no alt')\n",
    "        galt = aircraft.get('GAlt', 'no galt')\n",
    "        lat = aircraft.get('Lat', 'no lat')\n",
    "        lon = aircraft.get('Long', 'no lon')\n",
    "        frm = aircraft.get('From', 'no frm')\n",
    "        dest = aircraft.get('To', 'no dest')\n",
    "        airline = aircraft.get('Op', 'no airline')\n",
    "        mdl = aircraft.get('Mdl', 'no mdl')\n",
    "        reg = aircraft.get('Reg', 'no reg')\n",
    "        tsecs = aircraft.get('TSecs', 'no tsecs')\n",
    "        typ = aircraft.get('Type', 'no typ')\n",
    "\n",
    "        if lat != 'no lat' and lon != 'no lon':\n",
    "\n",
    "            d = distance(lat, lon, my_lat, my_lon)\n",
    "\n",
    "            if d <= radius:\n",
    "                \n",
    "                marker = Marker(location=center, draggable=False)\n",
    "                m.add_layer(marker)\n",
    "                \n",
    "                \n",
    "                \n",
    "                #print('dist=%r, lat=%r, lon=%r, frm=%s, dest=%s, airline=%s, alt=%r mdl=%r,' %(round(d, 3), lat, lon, frm, dest, airline, alt, mdl))\n",
    "                #print()\n",
    "                \n",
    "    m\n",
    "\n",
    "\n",
    "         \n",
    "\n",
    "def getAllAircraftFromAirline(airline1, data):\n",
    "\n",
    "    for aircraft in data['acList']:\n",
    "        aid = aircraft.get('Id', 'no aid')\n",
    "        alt = aircraft.get('Alt', 'no alt')\n",
    "        galt = aircraft.get('GAlt', 'no galt')\n",
    "        lat = aircraft.get('Lat', 'no lat')\n",
    "        lon = aircraft.get('Long', 'no lon')\n",
    "        frm = aircraft.get('From', 'no frm')\n",
    "        dest = aircraft.get('To', 'no dest')\n",
    "        airline = aircraft.get('Op', 'no airline')\n",
    "        mdl = aircraft.get('Mdl', 'no mdl')\n",
    "        reg = aircraft.get('Reg', 'no reg')\n",
    "        tsecs = aircraft.get('TSecs', 'no tsecs')\n",
    "        typ = aircraft.get('Type', 'no typ')\n",
    "\n",
    "        if airline != 'no airline':\n",
    "            if airline == airline1:\n",
    "                \n",
    "                center = [lat, lon]\n",
    "                \n",
    "                m = Map(center=center, zoom=10)\n",
    "                \n",
    "                marker = Marker(location=center, draggable=False)\n",
    "                m.add_layer(marker)\n",
    "                \n",
    "                m\n",
    "                \n",
    "                print('lat = %r, lon = %r, from = %s, dest = %s' %(lat, lon, frm, dest))\n",
    "                print()\n",
    "                \n",
    "                \n",
    "                \n",
    "def getAircraftByLocation(orgin, destination, data):\n",
    "\n",
    "    for aircraft in data['acList']:\n",
    "        aid = aircraft.get('Id', 'no aid')\n",
    "        alt = aircraft.get('Alt', 'no alt')\n",
    "        galt = aircraft.get('GAlt', 'no galt')\n",
    "        lat = aircraft.get('Lat', 'no lat')\n",
    "        lon = aircraft.get('Long', 'no lon')\n",
    "        frm = aircraft.get('From', 'no frm')\n",
    "        dest = aircraft.get('To', 'no dest')\n",
    "        airline = aircraft.get('Op', 'no airline')\n",
    "        mdl = aircraft.get('Mdl', 'no mdl')\n",
    "        reg = aircraft.get('Reg', 'no reg')\n",
    "        tsecs = aircraft.get('TSecs', 'no tsecs')\n",
    "        typ = aircraft.get('Type', 'no typ')\n",
    "\n",
    "        if frm != 'no frm' and dest != 'no dest':\n",
    "            if frm == orgin and dest == destination:\n",
    "                \n",
    "                center = [lat, lon]\n",
    "                \n",
    "                m = Map(center=center, zoom=10)\n",
    "                \n",
    "                marker = Marker(location=center, draggable=False)\n",
    "                m.add_layer(marker)\n",
    "                \n",
    "                return m\n",
    "                \n",
    "                print('aid = %r, Alt = %r, lat = %r, lon = %r, from = %s, dest = %s, airline = %s' %(aid, alt, lat, lon, frm, dest, airline))\n",
    "                print()\n",
    "                \n",
    "\n",
    "\n",
    "def getAircraftByOrginAndAirline(orgin, arln, data):\n",
    "\n",
    "    for aircraft in data['acList']:\n",
    "        aid = aircraft.get('Id', 'no aid')\n",
    "        alt = aircraft.get('Alt', 'no alt')\n",
    "        galt = aircraft.get('GAlt', 'no galt')\n",
    "        lat = aircraft.get('Lat', 'no lat')\n",
    "        lon = aircraft.get('Long', 'no lon')\n",
    "        frm = aircraft.get('From', 'no frm')\n",
    "        dest = aircraft.get('To', 'no dest')\n",
    "        airline = aircraft.get('Op', 'no airline')\n",
    "        mdl = aircraft.get('Mdl', 'no mdl')\n",
    "        reg = aircraft.get('Reg', 'no reg')\n",
    "        tsecs = aircraft.get('TSecs', 'no tsecs')\n",
    "        typ = aircraft.get('Type', 'no typ')\n",
    "\n",
    "        if frm != 'no frm' and airline != 'no airline':\n",
    "            if frm == orgin and airline == arln:\n",
    "                \n",
    "                center = [lat, lon]\n",
    "                \n",
    "                m = Map(center=center, zoom=10)\n",
    "                \n",
    "                marker = Marker(location=center, draggable=False)\n",
    "                m.add_layer(marker)\n",
    "                \n",
    "                m\n",
    "                \n",
    "                print('lat = %r, lon = %r, from = %s, dest = %s, airline = %s' %(lat, lon, frm, dest, airline))\n",
    "                print()\n",
    "                \n",
    "\n",
    "def getAircraftByDestAndAirline(destination, arln, data):\n",
    "\n",
    "    for aircraft in data['acList']:\n",
    "        aid = aircraft.get('Id', 'no aid')\n",
    "        alt = aircraft.get('Alt', 'no alt')\n",
    "        galt = aircraft.get('GAlt', 'no galt')\n",
    "        lat = aircraft.get('Lat', 'no lat')\n",
    "        lon = aircraft.get('Long', 'no lon')\n",
    "        frm = aircraft.get('From', 'no frm')\n",
    "        dest = aircraft.get('To', 'no dest')\n",
    "        airline = aircraft.get('Op', 'no airline')\n",
    "        mdl = aircraft.get('Mdl', 'no mdl')\n",
    "        reg = aircraft.get('Reg', 'no reg')\n",
    "        tsecs = aircraft.get('TSecs', 'no tsecs')\n",
    "        typ = aircraft.get('Type', 'no typ')\n",
    "\n",
    "        if airline != 'no airline' and dest != 'no dest':\n",
    "            if airline == arln and dest == destination:\n",
    "                \n",
    "                center = [lat, lon]\n",
    "                \n",
    "                m = Map(center=center, zoom=10)\n",
    "                \n",
    "                marker = Marker(location=center, draggable=False)\n",
    "                m.add_layer(marker)\n",
    "                \n",
    "                m\n",
    "                \n",
    "                print('lat = %r, lon = %r, from = %s, dest = %s, airline = %s' %(lat, lon, frm, dest, airline))\n",
    "                print()\n",
    "                \n",
    "\n",
    "def getAircraftByID(airID, data):\n",
    "\n",
    "    for aircraft in data['acList']:\n",
    "        aid = aircraft.get('Id', 'no aid')\n",
    "        alt = aircraft.get('Alt', 'no alt')\n",
    "        galt = aircraft.get('GAlt', 'no galt')\n",
    "        lat = aircraft.get('Lat', 'no lat')\n",
    "        lon = aircraft.get('Long', 'no lon')\n",
    "        frm = aircraft.get('From', 'no frm')\n",
    "        dest = aircraft.get('To', 'no dest')\n",
    "        airline = aircraft.get('Op', 'no airline')\n",
    "        mdl = aircraft.get('Mdl', 'no mdl')\n",
    "        reg = aircraft.get('Reg', 'no reg')\n",
    "        tsecs = aircraft.get('TSecs', 'no tsecs')\n",
    "        typ = aircraft.get('Type', 'no typ')\n",
    "\n",
    "        if aid != 'no aid':\n",
    "            if aid  == airID:\n",
    "                \n",
    "                center = [lat, lon]\n",
    "                \n",
    "                m = Map(center=center, zoom=10)\n",
    "                \n",
    "                marker = Marker(location=center, draggable=False)\n",
    "                m.add_layer(marker)\n",
    "                \n",
    "                m\n",
    "                \n",
    "                print('altitude = %r, lat = %r, lon = %r, from = %s, dest = %s' %(alt, lat, lon, frm, dest))\n",
    "                print()\n",
    "                \n",
    "                \n",
    "# Distance calculation                                                                                                                                                                                      \n",
    "def distance(lat1, lon1, lat2, lon2):\n",
    "\n",
    "    rad_e = (3959)\n",
    "    rad_lat1 = math.radians(lat1)\n",
    "    rad_lon1 = math.radians(lon1)\n",
    "    rad_lat2 = math.radians(lat2)\n",
    "    rad_lon2 = math.radians(lon2)\n",
    "\n",
    "    change_in_lat = rad_lat2 - rad_lat1\n",
    "    change_in_lon = rad_lon2 - rad_lon1\n",
    "\n",
    "    a = ((math.sin(change_in_lat/2)**2)+(math.cos(rad_lat1)*(math.cos(rad_lat2))*(math.sin(change_in_lon/2)**2)))\n",
    "    c = 2*math.atan2(math.sqrt(a), math.sqrt(1-a))\n",
    "    d = rad_e * c\n",
    "    return d\n",
    "\n",
    "\n",
    "\n"
   ]
  },
  {
   "cell_type": "code",
   "execution_count": 18,
   "metadata": {},
   "outputs": [
    {
     "ename": "JSONDecodeError",
     "evalue": "Unterminated string starting at: line 1 column 413703 (char 413702)",
     "output_type": "error",
     "traceback": [
      "\u001b[0;31m---------------------------------------------------------------------------\u001b[0m",
      "\u001b[0;31mJSONDecodeError\u001b[0m                           Traceback (most recent call last)",
      "\u001b[0;32m<ipython-input-18-728a17008476>\u001b[0m in \u001b[0;36m<module>\u001b[0;34m()\u001b[0m\n\u001b[1;32m     32\u001b[0m \u001b[0;34m\u001b[0m\u001b[0m\n\u001b[1;32m     33\u001b[0m \u001b[0;34m\u001b[0m\u001b[0m\n\u001b[0;32m---> 34\u001b[0;31m \u001b[0mmain\u001b[0m\u001b[0;34m(\u001b[0m\u001b[0;34m)\u001b[0m\u001b[0;34m\u001b[0m\u001b[0m\n\u001b[0m\u001b[1;32m     35\u001b[0m \u001b[0;31m#    getAircraftByID(aid, aircraftData)\u001b[0m\u001b[0;34m\u001b[0m\u001b[0;34m\u001b[0m\u001b[0m\n\u001b[1;32m     36\u001b[0m \u001b[0;31m#    getAircraftInRadius(EGLL_lat, EGLL_lon, 100, aircraftData)\u001b[0m\u001b[0;34m\u001b[0m\u001b[0;34m\u001b[0m\u001b[0m\n",
      "\u001b[0;32m<ipython-input-18-728a17008476>\u001b[0m in \u001b[0;36mmain\u001b[0;34m()\u001b[0m\n\u001b[1;32m      6\u001b[0m     \u001b[0mjsonFile\u001b[0m \u001b[0;34m=\u001b[0m \u001b[0;34m\"AircraftList.json\"\u001b[0m\u001b[0;34m\u001b[0m\u001b[0m\n\u001b[1;32m      7\u001b[0m     \u001b[0mjson_data\u001b[0m \u001b[0;34m=\u001b[0m \u001b[0mopen\u001b[0m\u001b[0;34m(\u001b[0m\u001b[0mjsonFile\u001b[0m\u001b[0;34m)\u001b[0m\u001b[0;34m.\u001b[0m\u001b[0mread\u001b[0m\u001b[0;34m(\u001b[0m\u001b[0;34m)\u001b[0m\u001b[0;34m\u001b[0m\u001b[0m\n\u001b[0;32m----> 8\u001b[0;31m     \u001b[0mdata\u001b[0m \u001b[0;34m=\u001b[0m \u001b[0mjson\u001b[0m\u001b[0;34m.\u001b[0m\u001b[0mloads\u001b[0m\u001b[0;34m(\u001b[0m\u001b[0mjson_data\u001b[0m\u001b[0;34m)\u001b[0m\u001b[0;34m\u001b[0m\u001b[0m\n\u001b[0m\u001b[1;32m      9\u001b[0m     \u001b[0;31m#aircraftData = getNewAircraftData(URL, jsonFile)\u001b[0m\u001b[0;34m\u001b[0m\u001b[0;34m\u001b[0m\u001b[0m\n\u001b[1;32m     10\u001b[0m     \u001b[0mfrm\u001b[0m \u001b[0;34m=\u001b[0m \u001b[0;34m\"KSFO San Francisco, United States\"\u001b[0m\u001b[0;34m\u001b[0m\u001b[0m\n",
      "\u001b[0;32m/Users/john/anaconda/lib/python3.6/json/__init__.py\u001b[0m in \u001b[0;36mloads\u001b[0;34m(s, encoding, cls, object_hook, parse_float, parse_int, parse_constant, object_pairs_hook, **kw)\u001b[0m\n\u001b[1;32m    352\u001b[0m             \u001b[0mparse_int\u001b[0m \u001b[0;32mis\u001b[0m \u001b[0;32mNone\u001b[0m \u001b[0;32mand\u001b[0m \u001b[0mparse_float\u001b[0m \u001b[0;32mis\u001b[0m \u001b[0;32mNone\u001b[0m \u001b[0;32mand\u001b[0m\u001b[0;34m\u001b[0m\u001b[0m\n\u001b[1;32m    353\u001b[0m             parse_constant is None and object_pairs_hook is None and not kw):\n\u001b[0;32m--> 354\u001b[0;31m         \u001b[0;32mreturn\u001b[0m \u001b[0m_default_decoder\u001b[0m\u001b[0;34m.\u001b[0m\u001b[0mdecode\u001b[0m\u001b[0;34m(\u001b[0m\u001b[0ms\u001b[0m\u001b[0;34m)\u001b[0m\u001b[0;34m\u001b[0m\u001b[0m\n\u001b[0m\u001b[1;32m    355\u001b[0m     \u001b[0;32mif\u001b[0m \u001b[0mcls\u001b[0m \u001b[0;32mis\u001b[0m \u001b[0;32mNone\u001b[0m\u001b[0;34m:\u001b[0m\u001b[0;34m\u001b[0m\u001b[0m\n\u001b[1;32m    356\u001b[0m         \u001b[0mcls\u001b[0m \u001b[0;34m=\u001b[0m \u001b[0mJSONDecoder\u001b[0m\u001b[0;34m\u001b[0m\u001b[0m\n",
      "\u001b[0;32m/Users/john/anaconda/lib/python3.6/json/decoder.py\u001b[0m in \u001b[0;36mdecode\u001b[0;34m(self, s, _w)\u001b[0m\n\u001b[1;32m    337\u001b[0m \u001b[0;34m\u001b[0m\u001b[0m\n\u001b[1;32m    338\u001b[0m         \"\"\"\n\u001b[0;32m--> 339\u001b[0;31m         \u001b[0mobj\u001b[0m\u001b[0;34m,\u001b[0m \u001b[0mend\u001b[0m \u001b[0;34m=\u001b[0m \u001b[0mself\u001b[0m\u001b[0;34m.\u001b[0m\u001b[0mraw_decode\u001b[0m\u001b[0;34m(\u001b[0m\u001b[0ms\u001b[0m\u001b[0;34m,\u001b[0m \u001b[0midx\u001b[0m\u001b[0;34m=\u001b[0m\u001b[0m_w\u001b[0m\u001b[0;34m(\u001b[0m\u001b[0ms\u001b[0m\u001b[0;34m,\u001b[0m \u001b[0;36m0\u001b[0m\u001b[0;34m)\u001b[0m\u001b[0;34m.\u001b[0m\u001b[0mend\u001b[0m\u001b[0;34m(\u001b[0m\u001b[0;34m)\u001b[0m\u001b[0;34m)\u001b[0m\u001b[0;34m\u001b[0m\u001b[0m\n\u001b[0m\u001b[1;32m    340\u001b[0m         \u001b[0mend\u001b[0m \u001b[0;34m=\u001b[0m \u001b[0m_w\u001b[0m\u001b[0;34m(\u001b[0m\u001b[0ms\u001b[0m\u001b[0;34m,\u001b[0m \u001b[0mend\u001b[0m\u001b[0;34m)\u001b[0m\u001b[0;34m.\u001b[0m\u001b[0mend\u001b[0m\u001b[0;34m(\u001b[0m\u001b[0;34m)\u001b[0m\u001b[0;34m\u001b[0m\u001b[0m\n\u001b[1;32m    341\u001b[0m         \u001b[0;32mif\u001b[0m \u001b[0mend\u001b[0m \u001b[0;34m!=\u001b[0m \u001b[0mlen\u001b[0m\u001b[0;34m(\u001b[0m\u001b[0ms\u001b[0m\u001b[0;34m)\u001b[0m\u001b[0;34m:\u001b[0m\u001b[0;34m\u001b[0m\u001b[0m\n",
      "\u001b[0;32m/Users/john/anaconda/lib/python3.6/json/decoder.py\u001b[0m in \u001b[0;36mraw_decode\u001b[0;34m(self, s, idx)\u001b[0m\n\u001b[1;32m    353\u001b[0m         \"\"\"\n\u001b[1;32m    354\u001b[0m         \u001b[0;32mtry\u001b[0m\u001b[0;34m:\u001b[0m\u001b[0;34m\u001b[0m\u001b[0m\n\u001b[0;32m--> 355\u001b[0;31m             \u001b[0mobj\u001b[0m\u001b[0;34m,\u001b[0m \u001b[0mend\u001b[0m \u001b[0;34m=\u001b[0m \u001b[0mself\u001b[0m\u001b[0;34m.\u001b[0m\u001b[0mscan_once\u001b[0m\u001b[0;34m(\u001b[0m\u001b[0ms\u001b[0m\u001b[0;34m,\u001b[0m \u001b[0midx\u001b[0m\u001b[0;34m)\u001b[0m\u001b[0;34m\u001b[0m\u001b[0m\n\u001b[0m\u001b[1;32m    356\u001b[0m         \u001b[0;32mexcept\u001b[0m \u001b[0mStopIteration\u001b[0m \u001b[0;32mas\u001b[0m \u001b[0merr\u001b[0m\u001b[0;34m:\u001b[0m\u001b[0;34m\u001b[0m\u001b[0m\n\u001b[1;32m    357\u001b[0m             \u001b[0;32mraise\u001b[0m \u001b[0mJSONDecodeError\u001b[0m\u001b[0;34m(\u001b[0m\u001b[0;34m\"Expecting value\"\u001b[0m\u001b[0;34m,\u001b[0m \u001b[0ms\u001b[0m\u001b[0;34m,\u001b[0m \u001b[0merr\u001b[0m\u001b[0;34m.\u001b[0m\u001b[0mvalue\u001b[0m\u001b[0;34m)\u001b[0m \u001b[0;32mfrom\u001b[0m \u001b[0;32mNone\u001b[0m\u001b[0;34m\u001b[0m\u001b[0m\n",
      "\u001b[0;31mJSONDecodeError\u001b[0m: Unterminated string starting at: line 1 column 413703 (char 413702)"
     ]
    }
   ],
   "source": [
    "from ipyleaflet import (Map, Marker)\n",
    "def main():\n",
    "\n",
    "    URL = \"http://public-api.adsbexchange.com/VirtualRadar/AircraftList.json\"\n",
    "    #jsonFile = \"/Users/john/Documents/create_task/AircraftList.json\"\n",
    "    jsonFile = \"AircraftList.json\"\n",
    "    json_data = open(jsonFile).read()\n",
    "    data = json.loads(json_data)\n",
    "    #aircraftData = getNewAircraftData(URL, jsonFile)\n",
    "    frm = \"KSFO San Francisco, United States\"\n",
    "    dest = \"EGLL London Heathrow, United Kingdom\"\n",
    "    airline = \"United Airlines\"\n",
    "    #EGLL_lat = 51.47\n",
    "    #EGLL_lon = 0.4543\n",
    "    EGLL_lat = 0\n",
    "    EGLL_lon = 0\n",
    "    aid = 10622585\n",
    "    radius = 100\n",
    "    center = [EGLL_lat, EGLL_lon]\n",
    "    print(center)\n",
    "    m = Map(center=center, zoom=10)\n",
    "    m\n",
    "    #for aircraft in data['acList']:\n",
    "    #    lat = aircraft.get('Lat', 'no lat')\n",
    "    #    lon = aircraft.get('Long', 'no lon')\n",
    "    #    if lat != 'no lat' and lon != 'no lon':\n",
    "    #        d = distance(lat, lon, EGLL_lat, EGLL_lon)\n",
    "    #        if d <= radius:\n",
    "    #            center = [lat, lon]            \n",
    "    #            marker = Marker(location=center, draggable=False)\n",
    "    #            m.add_layer(marker)\n",
    "    \n",
    "                \n",
    "main()            \n",
    "#    getAircraftByID(aid, aircraftData)\n",
    "#    getAircraftInRadius(EGLL_lat, EGLL_lon, 100, aircraftData)\n",
    "#    getAllAircraftFromAirline(airline, aircraftData)\n",
    "#    getAircraftByLocation(frm, dest, aircraftData)\n",
    "#    getAircraftByOrginAndAirline(frm, airline, aircraftData)\n",
    "#    getAircraftByDestAndAirline(dest, airline, aircraftData)\n",
    "\n",
    "#if __name__ == \"__main__\":\n",
    "#    main()\n",
    "\n",
    "\n"
   ]
  },
  {
   "cell_type": "code",
   "execution_count": 7,
   "metadata": {
    "format": "tab"
   },
   "outputs": [
    {
     "data": {
      "text/plain": [
       "['__add__',\n",
       " '__class__',\n",
       " '__del__',\n",
       " '__delattr__',\n",
       " '__dict__',\n",
       " '__dir__',\n",
       " '__doc__',\n",
       " '__eq__',\n",
       " '__format__',\n",
       " '__ge__',\n",
       " '__getattribute__',\n",
       " '__getstate__',\n",
       " '__gt__',\n",
       " '__hash__',\n",
       " '__iadd__',\n",
       " '__init__',\n",
       " '__init_subclass__',\n",
       " '__isub__',\n",
       " '__le__',\n",
       " '__lt__',\n",
       " '__module__',\n",
       " '__ne__',\n",
       " '__new__',\n",
       " '__reduce__',\n",
       " '__reduce_ex__',\n",
       " '__repr__',\n",
       " '__setattr__',\n",
       " '__setstate__',\n",
       " '__sizeof__',\n",
       " '__str__',\n",
       " '__subclasshook__',\n",
       " '__weakref__',\n",
       " '_add_notifiers',\n",
       " '_call_widget_constructed',\n",
       " '_comm_changed',\n",
       " '_compare',\n",
       " '_control_ids',\n",
       " '_cross_validation_lock',\n",
       " '_default_keys',\n",
       " '_default_layers',\n",
       " '_default_options',\n",
       " '_display_callbacks',\n",
       " '_dom_classes',\n",
       " '_fire_children_displayed',\n",
       " '_gen_repr_from_keys',\n",
       " '_get_embed_state',\n",
       " '_handle_custom_msg',\n",
       " '_handle_displayed',\n",
       " '_handle_leaflet_event',\n",
       " '_handle_msg',\n",
       " '_holding_sync',\n",
       " '_interaction_callbacks',\n",
       " '_ipython_display_',\n",
       " '_is_numpy',\n",
       " '_layer_ids',\n",
       " '_lock_property',\n",
       " '_log_default',\n",
       " '_model_id',\n",
       " '_model_module',\n",
       " '_model_module_version',\n",
       " '_model_name',\n",
       " '_msg_callbacks',\n",
       " '_notify_trait',\n",
       " '_observe_bounds',\n",
       " '_property_lock',\n",
       " '_register_validator',\n",
       " '_remove_notifiers',\n",
       " '_repr_keys',\n",
       " '_send',\n",
       " '_should_send_property',\n",
       " '_states_to_send',\n",
       " '_trait_default_generators',\n",
       " '_trait_from_json',\n",
       " '_trait_notifiers',\n",
       " '_trait_to_json',\n",
       " '_trait_validators',\n",
       " '_trait_values',\n",
       " '_validate_controls',\n",
       " '_validate_layers',\n",
       " '_view_count',\n",
       " '_view_module',\n",
       " '_view_module_version',\n",
       " '_view_name',\n",
       " '_widget_construction_callback',\n",
       " 'add_class',\n",
       " 'add_control',\n",
       " 'add_layer',\n",
       " 'add_traits',\n",
       " 'attribution_control',\n",
       " 'basemap',\n",
       " 'bounce_at_zoom_limits',\n",
       " 'bounds',\n",
       " 'bounds_polygon',\n",
       " 'box_zoom',\n",
       " 'center',\n",
       " 'class_own_trait_events',\n",
       " 'class_own_traits',\n",
       " 'class_trait_names',\n",
       " 'class_traits',\n",
       " 'clear_controls',\n",
       " 'clear_layers',\n",
       " 'close',\n",
       " 'close_all',\n",
       " 'close_popup_on_click',\n",
       " 'comm',\n",
       " 'controls',\n",
       " 'cross_validation_lock',\n",
       " 'double_click_zoom',\n",
       " 'dragging',\n",
       " 'east',\n",
       " 'get_manager_state',\n",
       " 'get_state',\n",
       " 'get_view_spec',\n",
       " 'handle_comm_opened',\n",
       " 'has_trait',\n",
       " 'hold_sync',\n",
       " 'hold_trait_notifications',\n",
       " 'inertia',\n",
       " 'inertia_deceleration',\n",
       " 'inertia_max_speed',\n",
       " 'interact',\n",
       " 'interpolation',\n",
       " 'keyboard',\n",
       " 'keyboard_pan_offset',\n",
       " 'keyboard_zoom_offset',\n",
       " 'keys',\n",
       " 'layers',\n",
       " 'layout',\n",
       " 'log',\n",
       " 'max_zoom',\n",
       " 'min_zoom',\n",
       " 'model_id',\n",
       " 'modisdate',\n",
       " 'north',\n",
       " 'notify_change',\n",
       " 'observe',\n",
       " 'on_displayed',\n",
       " 'on_interaction',\n",
       " 'on_msg',\n",
       " 'on_trait_change',\n",
       " 'on_widget_constructed',\n",
       " 'open',\n",
       " 'options',\n",
       " 'remove_class',\n",
       " 'remove_control',\n",
       " 'remove_layer',\n",
       " 'scroll_wheel_zoom',\n",
       " 'send',\n",
       " 'send_state',\n",
       " 'set_state',\n",
       " 'set_trait',\n",
       " 'setup_instance',\n",
       " 'south',\n",
       " 'substitute_layer',\n",
       " 'tap',\n",
       " 'tap_tolerance',\n",
       " 'touch_zoom',\n",
       " 'trait_events',\n",
       " 'trait_metadata',\n",
       " 'trait_names',\n",
       " 'traits',\n",
       " 'unobserve',\n",
       " 'unobserve_all',\n",
       " 'west',\n",
       " 'widget_types',\n",
       " 'widgets',\n",
       " 'world_copy_jump',\n",
       " 'zoom',\n",
       " 'zoom_animation_threshold',\n",
       " 'zoom_control',\n",
       " 'zoom_start']"
      ]
     },
     "execution_count": 7,
     "metadata": {},
     "output_type": "execute_result"
    }
   ],
   "source": [
    "dir(m)"
   ]
  },
  {
   "cell_type": "code",
   "execution_count": 8,
   "metadata": {
    "format": "column",
    "scrolled": false
   },
   "outputs": [
    {
     "name": "stdout",
     "output_type": "stream",
     "text": [
      "distance: 659.2 miles\n",
      "[59.701199, -8.139259]\n"
     ]
    },
    {
     "data": {
      "application/vnd.jupyter.widget-view+json": {
       "model_id": "0f26301a2bea4068b912ec9362fd589f",
       "version_major": 2,
       "version_minor": 0
      },
      "text/plain": [
       "Map(basemap={'url': 'https://{s}.tile.openstreetmap.org/{z}/{x}/{y}.png', 'max_zoom': 19, 'attribution': 'Map …"
      ]
     },
     "metadata": {},
     "output_type": "display_data"
    }
   ],
   "source": [
    "from ipyleaflet import (Map, Marker, Color)\n",
    "import json\n",
    "\n",
    "URL = \"http://public-api.adsbexchange.com/VirtualRadar/AircraftList.json\"\n",
    "jsonFile = \"AircraftList.json\"\n",
    "#json_data = open(jsonFile).read()\n",
    "data = getNewAircraftData(URL, jsonFile)\n",
    "\n",
    "EGLL_lat = 51.47\n",
    "EGLL_lon = 0.4543\n",
    "radius = 1000\n",
    "center = [EGLL_lat, EGLL_lon]\n",
    "\n",
    "center = [EGLL_lat, EGLL_lon]\n",
    "m = Map(center=center, zoom=3)\n",
    "marker = Marker(location=center, draggable=False)\n",
    "m.add_layer(marker)\n",
    "    \n",
    "for aircraft in data['acList']:\n",
    "    aid = aircraft.get('Id', 'no aid')\n",
    "    lat = aircraft.get('Lat', 'no lat')\n",
    "    lon = aircraft.get('Long', 'no lon')\n",
    "    galt = aircraft.get('GAlt', 'no galt')\n",
    "    #if lat != 'no lat' and lon != 'no lon':\n",
    "    if aid == 'no aid':\n",
    "        continue\n",
    "    #if d <= radius:\n",
    "    if aid == 10622585:\n",
    "        d = round(distance(lat, lon, EGLL_lat, EGLL_lon), 1)\n",
    "        print('distance: {} miles'.format(d))\n",
    "        center = [lat, lon]            \n",
    "        print(center)\n",
    "        marker = Marker(location=center, draggable=False)\n",
    "        m.add_layer(marker)\n",
    "m                "
   ]
  },
  {
   "cell_type": "markdown",
   "metadata": {},
   "source": [
    "Flight into London"
   ]
  },
  {
   "cell_type": "code",
   "execution_count": 10,
   "metadata": {
    "format": "column"
   },
   "outputs": [
    {
     "data": {
      "application/vnd.jupyter.widget-view+json": {
       "model_id": "03eab4886a4c4dfd969b618fb90dd2bd",
       "version_major": 2,
       "version_minor": 0
      },
      "text/plain": [
       "Map(basemap={'url': 'https://{s}.tile.openstreetmap.org/{z}/{x}/{y}.png', 'max_zoom': 19, 'attribution': 'Map …"
      ]
     },
     "metadata": {},
     "output_type": "display_data"
    }
   ],
   "source": [
    "from ipyleaflet import (Map, Marker, Color)\n",
    "import json\n",
    "import time as t\n",
    "from time import strftime\n",
    "\n",
    "URL = \"http://public-api.adsbexchange.com/VirtualRadar/AircraftList.json\"\n",
    "jsonFile = \"AircraftList.json\"\n",
    "#json_data = open(jsonFile).read()\n",
    "\n",
    "EGLL_lat = 51.47\n",
    "EGLL_lon = 0.4543\n",
    "radius = 1000\n",
    "center = [EGLL_lat, EGLL_lon]\n",
    "\n",
    "m = Map(center=center, zoom=3)\n",
    "marker = Marker(location=center, draggable=False)\n",
    "m.add_layer(marker)\n",
    "m\n"
   ]
  },
  {
   "cell_type": "code",
   "execution_count": 11,
   "metadata": {
    "format": "column"
   },
   "outputs": [
    {
     "name": "stdout",
     "output_type": "stream",
     "text": [
      "\bdist:661.0 mi alt:30342 speed:unknown\n",
      "\bdist:661.5 mi alt:30342 speed:-525.94\n",
      "\bdist:662.1 mi alt:30342 speed:-688.5\n",
      "\bdist:662.1 mi alt:30342 speed:-0.0\n",
      "\bdist:663.2 mi alt:30342 speed:-1360.28\n",
      "\bdist:663.9 mi alt:30342 speed:-732.74\n"
     ]
    },
    {
     "ename": "KeyboardInterrupt",
     "evalue": "",
     "output_type": "error",
     "traceback": [
      "\u001b[0;31m---------------------------------------------------------------------------\u001b[0m",
      "\u001b[0;31mKeyboardInterrupt\u001b[0m                         Traceback (most recent call last)",
      "\u001b[0;32m<ipython-input-11-567d2dd0dd6a>\u001b[0m in \u001b[0;36m<module>\u001b[0;34m()\u001b[0m\n\u001b[1;32m     33\u001b[0m                 \u001b[0mm\u001b[0m\u001b[0;34m.\u001b[0m\u001b[0madd_layer\u001b[0m\u001b[0;34m(\u001b[0m\u001b[0mmarker\u001b[0m\u001b[0;34m)\u001b[0m\u001b[0;34m\u001b[0m\u001b[0m\n\u001b[1;32m     34\u001b[0m     \u001b[0mcount\u001b[0m\u001b[0;34m+=\u001b[0m\u001b[0;36m1\u001b[0m\u001b[0;34m\u001b[0m\u001b[0m\n\u001b[0;32m---> 35\u001b[0;31m     \u001b[0mt\u001b[0m\u001b[0;34m.\u001b[0m\u001b[0msleep\u001b[0m\u001b[0;34m(\u001b[0m\u001b[0;36m1\u001b[0m\u001b[0;34m)\u001b[0m\u001b[0;34m\u001b[0m\u001b[0m\n\u001b[0m",
      "\u001b[0;31mKeyboardInterrupt\u001b[0m: "
     ]
    }
   ],
   "source": [
    "a = []\n",
    "spd = 'unknown'\n",
    "count = 0\n",
    "while True:\n",
    "    data = getNewAircraftData(URL, jsonFile)    \n",
    "    for aircraft in data['acList']:\n",
    "        aid = aircraft.get('Id', 'no aid')\n",
    "        lat = aircraft.get('Lat', 'no lat')\n",
    "        lon = aircraft.get('Long', 'no lon')\n",
    "        galt = aircraft.get('GAlt', 'no galt')\n",
    "        #if lat != 'no lat' and lon != 'no lon':\n",
    "        if aid == 'no aid':\n",
    "            continue\n",
    "        #if d <= radius:\n",
    "        if aid == 10622585:\n",
    "            d = distance(lat, lon, EGLL_lat, EGLL_lon)\n",
    "            now = strftime(\"%Y-%m-%d %H:%M:%S\", t.gmtime())\n",
    "            s = int(strftime(\"%s\", t.gmtime()))\n",
    "            a.insert(0, (d,s))\n",
    "            if len(a) == 2:\n",
    "                initial_data = a.pop()\n",
    "                final_data = a[0]\n",
    "                delta_x = final_data[0] - initial_data[0]\n",
    "                delta_t = final_data[1] - initial_data[1]\n",
    "                spd = round(-(delta_x/delta_t) * 3600, 2) #mph\n",
    "                \n",
    "                \n",
    "            print('\\bdist:{} mi alt:{} speed:{}'.format(round(d, 1), galt, spd))\n",
    "            center = [lat, lon]            \n",
    "            #print(center)\n",
    "            if count%5 == 0:\n",
    "                marker = Marker(location=center, draggable=False)\n",
    "                m.add_layer(marker)\n",
    "    count+=1\n",
    "    t.sleep(1)"
   ]
  },
  {
   "cell_type": "code",
   "execution_count": null,
   "metadata": {
    "collapsed": true,
    "format": "row"
   },
   "outputs": [],
   "source": []
  },
  {
   "cell_type": "code",
   "execution_count": null,
   "metadata": {
    "collapsed": true
   },
   "outputs": [],
   "source": []
  },
  {
   "cell_type": "code",
   "execution_count": null,
   "metadata": {
    "collapsed": true
   },
   "outputs": [],
   "source": []
  },
  {
   "cell_type": "code",
   "execution_count": null,
   "metadata": {
    "collapsed": true
   },
   "outputs": [],
   "source": []
  },
  {
   "cell_type": "code",
   "execution_count": 12,
   "metadata": {},
   "outputs": [
    {
     "data": {
      "application/vnd.jupyter.widget-view+json": {
       "model_id": "f19eeec7900d4ade94ca91440d1cd28a",
       "version_major": 2,
       "version_minor": 0
      },
      "text/plain": [
       "Map(basemap={'url': 'https://{s}.tile.openstreetmap.org/{z}/{x}/{y}.png', 'max_zoom': 19, 'attribution': 'Map …"
      ]
     },
     "metadata": {},
     "output_type": "display_data"
    }
   ],
   "source": [
    "from ipyleaflet import (Map, Marker, Color)\n",
    "import json\n",
    "import time as t\n",
    "from time import strftime\n",
    "\n",
    "URL = \"http://public-api.adsbexchange.com/VirtualRadar/AircraftList.json\"\n",
    "jsonFile = \"AircraftList.json\"\n",
    "#json_data = open(jsonFile).read()\n",
    "\n",
    "EGLL_lat = 51.470944\n",
    "EGLL_lon = -0.458267\n",
    "Dub_lat = 53.428322\n",
    "Dub_lon = -6.2504\n",
    "radius = 40\n",
    "center = [EGLL_lat, EGLL_lon]\n",
    "destin = [Dub_lat, Dub_lon]\n",
    "\n",
    "m = Map(center=center, zoom=11)\n",
    "marker = Marker(location=center, draggable=False)\n",
    "marker1 = Marker(location=destin, draggable=False)\n",
    "m.add_layer(marker)\n",
    "m.add_layer(marker1)\n",
    "m\n"
   ]
  },
  {
   "cell_type": "code",
   "execution_count": 13,
   "metadata": {},
   "outputs": [
    {
     "ename": "KeyboardInterrupt",
     "evalue": "",
     "output_type": "error",
     "traceback": [
      "\u001b[0;31m---------------------------------------------------------------------------\u001b[0m",
      "\u001b[0;31mKeyboardInterrupt\u001b[0m                         Traceback (most recent call last)",
      "\u001b[0;32m<ipython-input-13-04a2d42a8d73>\u001b[0m in \u001b[0;36m<module>\u001b[0;34m()\u001b[0m\n\u001b[1;32m      3\u001b[0m \u001b[0mcount\u001b[0m \u001b[0;34m=\u001b[0m \u001b[0;36m0\u001b[0m\u001b[0;34m\u001b[0m\u001b[0m\n\u001b[1;32m      4\u001b[0m \u001b[0;32mwhile\u001b[0m \u001b[0;32mTrue\u001b[0m\u001b[0;34m:\u001b[0m\u001b[0;34m\u001b[0m\u001b[0m\n\u001b[0;32m----> 5\u001b[0;31m     \u001b[0mdata\u001b[0m \u001b[0;34m=\u001b[0m \u001b[0mgetNewAircraftData\u001b[0m\u001b[0;34m(\u001b[0m\u001b[0mURL\u001b[0m\u001b[0;34m,\u001b[0m \u001b[0mjsonFile\u001b[0m\u001b[0;34m)\u001b[0m\u001b[0;34m\u001b[0m\u001b[0m\n\u001b[0m\u001b[1;32m      6\u001b[0m     \u001b[0;32mfor\u001b[0m \u001b[0maircraft\u001b[0m \u001b[0;32min\u001b[0m \u001b[0mdata\u001b[0m\u001b[0;34m[\u001b[0m\u001b[0;34m'acList'\u001b[0m\u001b[0;34m]\u001b[0m\u001b[0;34m:\u001b[0m\u001b[0;34m\u001b[0m\u001b[0m\n\u001b[1;32m      7\u001b[0m         \u001b[0maid\u001b[0m \u001b[0;34m=\u001b[0m \u001b[0maircraft\u001b[0m\u001b[0;34m.\u001b[0m\u001b[0mget\u001b[0m\u001b[0;34m(\u001b[0m\u001b[0;34m'Id'\u001b[0m\u001b[0;34m,\u001b[0m \u001b[0;34m'no aid'\u001b[0m\u001b[0;34m)\u001b[0m\u001b[0;34m\u001b[0m\u001b[0m\n",
      "\u001b[0;32m<ipython-input-6-de31aacd5822>\u001b[0m in \u001b[0;36mgetNewAircraftData\u001b[0;34m(URL, jsonFile)\u001b[0m\n\u001b[1;32m     12\u001b[0m \u001b[0;32mdef\u001b[0m \u001b[0mgetNewAircraftData\u001b[0m\u001b[0;34m(\u001b[0m\u001b[0mURL\u001b[0m\u001b[0;34m,\u001b[0m \u001b[0mjsonFile\u001b[0m\u001b[0;34m)\u001b[0m\u001b[0;34m:\u001b[0m\u001b[0;34m\u001b[0m\u001b[0m\n\u001b[1;32m     13\u001b[0m \u001b[0;34m\u001b[0m\u001b[0m\n\u001b[0;32m---> 14\u001b[0;31m     \u001b[0mcall\u001b[0m\u001b[0;34m(\u001b[0m\u001b[0;34m[\u001b[0m\u001b[0;34m\"wget\"\u001b[0m\u001b[0;34m,\u001b[0m \u001b[0;34m\"-O\"\u001b[0m\u001b[0;34m,\u001b[0m \u001b[0mjsonFile\u001b[0m\u001b[0;34m,\u001b[0m \u001b[0mURL\u001b[0m\u001b[0;34m]\u001b[0m\u001b[0;34m)\u001b[0m\u001b[0;34m\u001b[0m\u001b[0m\n\u001b[0m\u001b[1;32m     15\u001b[0m \u001b[0;34m\u001b[0m\u001b[0m\n\u001b[1;32m     16\u001b[0m     \u001b[0mjson_data\u001b[0m \u001b[0;34m=\u001b[0m \u001b[0mopen\u001b[0m\u001b[0;34m(\u001b[0m\u001b[0mjsonFile\u001b[0m\u001b[0;34m)\u001b[0m\u001b[0;34m.\u001b[0m\u001b[0mread\u001b[0m\u001b[0;34m(\u001b[0m\u001b[0;34m)\u001b[0m\u001b[0;34m\u001b[0m\u001b[0m\n",
      "\u001b[0;32m/Users/john/anaconda/lib/python3.6/subprocess.py\u001b[0m in \u001b[0;36mcall\u001b[0;34m(timeout, *popenargs, **kwargs)\u001b[0m\n\u001b[1;32m    267\u001b[0m     \u001b[0;32mwith\u001b[0m \u001b[0mPopen\u001b[0m\u001b[0;34m(\u001b[0m\u001b[0;34m*\u001b[0m\u001b[0mpopenargs\u001b[0m\u001b[0;34m,\u001b[0m \u001b[0;34m**\u001b[0m\u001b[0mkwargs\u001b[0m\u001b[0;34m)\u001b[0m \u001b[0;32mas\u001b[0m \u001b[0mp\u001b[0m\u001b[0;34m:\u001b[0m\u001b[0;34m\u001b[0m\u001b[0m\n\u001b[1;32m    268\u001b[0m         \u001b[0;32mtry\u001b[0m\u001b[0;34m:\u001b[0m\u001b[0;34m\u001b[0m\u001b[0m\n\u001b[0;32m--> 269\u001b[0;31m             \u001b[0;32mreturn\u001b[0m \u001b[0mp\u001b[0m\u001b[0;34m.\u001b[0m\u001b[0mwait\u001b[0m\u001b[0;34m(\u001b[0m\u001b[0mtimeout\u001b[0m\u001b[0;34m=\u001b[0m\u001b[0mtimeout\u001b[0m\u001b[0;34m)\u001b[0m\u001b[0;34m\u001b[0m\u001b[0m\n\u001b[0m\u001b[1;32m    270\u001b[0m         \u001b[0;32mexcept\u001b[0m\u001b[0;34m:\u001b[0m\u001b[0;34m\u001b[0m\u001b[0m\n\u001b[1;32m    271\u001b[0m             \u001b[0mp\u001b[0m\u001b[0;34m.\u001b[0m\u001b[0mkill\u001b[0m\u001b[0;34m(\u001b[0m\u001b[0;34m)\u001b[0m\u001b[0;34m\u001b[0m\u001b[0m\n",
      "\u001b[0;32m/Users/john/anaconda/lib/python3.6/subprocess.py\u001b[0m in \u001b[0;36mwait\u001b[0;34m(self, timeout, endtime)\u001b[0m\n\u001b[1;32m   1437\u001b[0m                         \u001b[0;32mif\u001b[0m \u001b[0mself\u001b[0m\u001b[0;34m.\u001b[0m\u001b[0mreturncode\u001b[0m \u001b[0;32mis\u001b[0m \u001b[0;32mnot\u001b[0m \u001b[0;32mNone\u001b[0m\u001b[0;34m:\u001b[0m\u001b[0;34m\u001b[0m\u001b[0m\n\u001b[1;32m   1438\u001b[0m                             \u001b[0;32mbreak\u001b[0m  \u001b[0;31m# Another thread waited.\u001b[0m\u001b[0;34m\u001b[0m\u001b[0m\n\u001b[0;32m-> 1439\u001b[0;31m                         \u001b[0;34m(\u001b[0m\u001b[0mpid\u001b[0m\u001b[0;34m,\u001b[0m \u001b[0msts\u001b[0m\u001b[0;34m)\u001b[0m \u001b[0;34m=\u001b[0m \u001b[0mself\u001b[0m\u001b[0;34m.\u001b[0m\u001b[0m_try_wait\u001b[0m\u001b[0;34m(\u001b[0m\u001b[0;36m0\u001b[0m\u001b[0;34m)\u001b[0m\u001b[0;34m\u001b[0m\u001b[0m\n\u001b[0m\u001b[1;32m   1440\u001b[0m                         \u001b[0;31m# Check the pid and loop as waitpid has been known to\u001b[0m\u001b[0;34m\u001b[0m\u001b[0;34m\u001b[0m\u001b[0m\n\u001b[1;32m   1441\u001b[0m                         \u001b[0;31m# return 0 even without WNOHANG in odd situations.\u001b[0m\u001b[0;34m\u001b[0m\u001b[0;34m\u001b[0m\u001b[0m\n",
      "\u001b[0;32m/Users/john/anaconda/lib/python3.6/subprocess.py\u001b[0m in \u001b[0;36m_try_wait\u001b[0;34m(self, wait_flags)\u001b[0m\n\u001b[1;32m   1384\u001b[0m             \u001b[0;34m\"\"\"All callers to this function MUST hold self._waitpid_lock.\"\"\"\u001b[0m\u001b[0;34m\u001b[0m\u001b[0m\n\u001b[1;32m   1385\u001b[0m             \u001b[0;32mtry\u001b[0m\u001b[0;34m:\u001b[0m\u001b[0;34m\u001b[0m\u001b[0m\n\u001b[0;32m-> 1386\u001b[0;31m                 \u001b[0;34m(\u001b[0m\u001b[0mpid\u001b[0m\u001b[0;34m,\u001b[0m \u001b[0msts\u001b[0m\u001b[0;34m)\u001b[0m \u001b[0;34m=\u001b[0m \u001b[0mos\u001b[0m\u001b[0;34m.\u001b[0m\u001b[0mwaitpid\u001b[0m\u001b[0;34m(\u001b[0m\u001b[0mself\u001b[0m\u001b[0;34m.\u001b[0m\u001b[0mpid\u001b[0m\u001b[0;34m,\u001b[0m \u001b[0mwait_flags\u001b[0m\u001b[0;34m)\u001b[0m\u001b[0;34m\u001b[0m\u001b[0m\n\u001b[0m\u001b[1;32m   1387\u001b[0m             \u001b[0;32mexcept\u001b[0m \u001b[0mChildProcessError\u001b[0m\u001b[0;34m:\u001b[0m\u001b[0;34m\u001b[0m\u001b[0m\n\u001b[1;32m   1388\u001b[0m                 \u001b[0;31m# This happens if SIGCLD is set to be ignored or waiting\u001b[0m\u001b[0;34m\u001b[0m\u001b[0;34m\u001b[0m\u001b[0m\n",
      "\u001b[0;31mKeyboardInterrupt\u001b[0m: "
     ]
    }
   ],
   "source": [
    "a = []\n",
    "spd = 'unknown'\n",
    "count = 0\n",
    "while True:\n",
    "    data = getNewAircraftData(URL, jsonFile)    \n",
    "    for aircraft in data['acList']:\n",
    "        aid = aircraft.get('Id', 'no aid')\n",
    "        lat = aircraft.get('Lat', 'no lat')\n",
    "        lon = aircraft.get('Long', 'no lon')\n",
    "        galt = aircraft.get('GAlt', 'no galt')\n",
    "        #if lat == 'no lat' and lon == 'no lon':\n",
    "        if aid == 'no aid':\n",
    "            continue\n",
    "        #d = distance(lat, lon, EGLL_lat, EGLL_lon)\n",
    "        #if d <= radius:\n",
    "        if aid == 4197115:\n",
    "            d = distance(lat, lon, Dub_lat, Dub_lon)\n",
    "            now = strftime(\"%Y-%m-%d %H:%M:%S\", t.gmtime())\n",
    "            s = int(strftime(\"%s\", t.gmtime()))\n",
    "            a.insert(0, (d,s))\n",
    "            if len(a) == 2:\n",
    "                initial_data = a.pop()\n",
    "                final_data = a[0]\n",
    "                delta_x = final_data[0] - initial_data[0]\n",
    "                delta_t = final_data[1] - initial_data[1]\n",
    "                spd = round(-(delta_x/delta_t) * 3600, 2) #mph\n",
    "                \n",
    "                \n",
    "            print('\\bdist:{} mi alt:{} speed:{}'.format(round(d, 1), galt, spd))\n",
    "            center = [lat, lon]            \n",
    "            #print(center)\n",
    "            if count%5 == 0:\n",
    "                marker = Marker(location=center, draggable=False)\n",
    "                m.add_layer(marker)\n",
    "    count+=1\n",
    "    t.sleep(1)"
   ]
  },
  {
   "cell_type": "code",
   "execution_count": null,
   "metadata": {
    "collapsed": true
   },
   "outputs": [],
   "source": []
  },
  {
   "cell_type": "code",
   "execution_count": null,
   "metadata": {
    "collapsed": true
   },
   "outputs": [],
   "source": []
  },
  {
   "cell_type": "code",
   "execution_count": 19,
   "metadata": {},
   "outputs": [
    {
     "data": {
      "application/vnd.jupyter.widget-view+json": {
       "model_id": "ea9535bee2c4440da0846d539aa79a90",
       "version_major": 2,
       "version_minor": 0
      },
      "text/plain": [
       "Map(basemap={'url': 'https://{s}.tile.openstreetmap.org/{z}/{x}/{y}.png', 'max_zoom': 19, 'attribution': 'Map …"
      ]
     },
     "metadata": {},
     "output_type": "display_data"
    }
   ],
   "source": [
    "from ipyleaflet import (Map, Marker, Color)\n",
    "import json\n",
    "import time as t\n",
    "from time import strftime\n",
    "\n",
    "URL = \"http://public-api.adsbexchange.com/VirtualRadar/AircraftList.json\"\n",
    "jsonFile = \"AircraftList.json\"\n",
    "#json_data = open(jsonFile).read()\n",
    "\n",
    "EGLL_lat = 51.470944\n",
    "EGLL_lon = -0.458267\n",
    "Dub_lat = 53.428322\n",
    "Dub_lon = -6.2504\n",
    "radius = 40\n",
    "center = [EGLL_lat, EGLL_lon]\n",
    "destin = [Dub_lat, Dub_lon]\n",
    "orgin = \"EGLL London Heathrow, United Kingdom\"\n",
    "destinStr = \"EIDW Dublin, Ireland\"\n",
    "arln = \"Aer Lingus\"\n",
    "\n",
    "m = Map(center=center, zoom=11)\n",
    "marker = Marker(location=center, draggable=False)\n",
    "marker1 = Marker(location=destin, draggable=False)\n",
    "m.add_layer(marker)\n",
    "m.add_layer(marker1)\n",
    "m\n"
   ]
  },
  {
   "cell_type": "code",
   "execution_count": 1,
   "metadata": {
    "format": "column"
   },
   "outputs": [
    {
     "ename": "NameError",
     "evalue": "name 'getNewAircraftData' is not defined",
     "output_type": "error",
     "traceback": [
      "\u001b[0;31m---------------------------------------------------------------------------\u001b[0m",
      "\u001b[0;31mNameError\u001b[0m                                 Traceback (most recent call last)",
      "\u001b[0;32m<ipython-input-1-5f9c616a14bd>\u001b[0m in \u001b[0;36m<module>\u001b[0;34m()\u001b[0m\n\u001b[1;32m      3\u001b[0m \u001b[0mcount\u001b[0m \u001b[0;34m=\u001b[0m \u001b[0;36m0\u001b[0m\u001b[0;34m\u001b[0m\u001b[0m\n\u001b[1;32m      4\u001b[0m \u001b[0;32mwhile\u001b[0m \u001b[0;32mTrue\u001b[0m\u001b[0;34m:\u001b[0m\u001b[0;34m\u001b[0m\u001b[0m\n\u001b[0;32m----> 5\u001b[0;31m     \u001b[0mdata\u001b[0m \u001b[0;34m=\u001b[0m \u001b[0mgetNewAircraftData\u001b[0m\u001b[0;34m(\u001b[0m\u001b[0mURL\u001b[0m\u001b[0;34m,\u001b[0m \u001b[0mjsonFile\u001b[0m\u001b[0;34m)\u001b[0m\u001b[0;34m\u001b[0m\u001b[0m\n\u001b[0m\u001b[1;32m      6\u001b[0m     \u001b[0;32mfor\u001b[0m \u001b[0maircraft\u001b[0m \u001b[0;32min\u001b[0m \u001b[0mdata\u001b[0m\u001b[0;34m[\u001b[0m\u001b[0;34m'acList'\u001b[0m\u001b[0;34m]\u001b[0m\u001b[0;34m:\u001b[0m\u001b[0;34m\u001b[0m\u001b[0m\n\u001b[1;32m      7\u001b[0m         \u001b[0maid\u001b[0m \u001b[0;34m=\u001b[0m \u001b[0maircraft\u001b[0m\u001b[0;34m.\u001b[0m\u001b[0mget\u001b[0m\u001b[0;34m(\u001b[0m\u001b[0;34m'Id'\u001b[0m\u001b[0;34m,\u001b[0m \u001b[0;34m'no aid'\u001b[0m\u001b[0;34m)\u001b[0m\u001b[0;34m\u001b[0m\u001b[0m\n",
      "\u001b[0;31mNameError\u001b[0m: name 'getNewAircraftData' is not defined"
     ]
    }
   ],
   "source": [
    "a = []\n",
    "spd = 'unknown'\n",
    "count = 0\n",
    "while True:\n",
    "    data = getNewAircraftData(URL, jsonFile)    \n",
    "    for aircraft in data['acList']:\n",
    "        aid = aircraft.get('Id', 'no aid')\n",
    "        lat = aircraft.get('Lat', 'no lat')\n",
    "        lon = aircraft.get('Long', 'no lon')\n",
    "        galt = aircraft.get('GAlt', 'no galt')\n",
    "        frm = aircraft.get('From', 'no frm')\n",
    "        dest = aircraft.get('To', 'no dest')\n",
    "        airline = aircraft.get('Op', 'no airline')\n",
    "        #if lat == 'no lat' and lon == 'no lon':\n",
    "        #if aid == 'no aid':\n",
    "        if frm == 'no frm' and dest == 'no dest' and airline == 'no airline':\n",
    "            continue\n",
    "        #d = distance(lat, lon, EGLL_lat, EGLL_lon)\n",
    "        #if d <= radius:\n",
    "        #if aid == 4197115:\n",
    "        if frm == orgin and dest == destinStr and airline == arln:\n",
    "            d = distance(lat, lon, Dub_lat, Dub_lon)\n",
    "            now = strftime(\"%Y-%m-%d %H:%M:%S\", t.gmtime())\n",
    "            s = int(strftime(\"%s\", t.gmtime()))\n",
    "            a.insert(0, (d,s))\n",
    "            if len(a) == 2:\n",
    "                initial_data = a.pop()\n",
    "                final_data = a[0]\n",
    "                delta_x = final_data[0] - initial_data[0]\n",
    "                delta_t = final_data[1] - initial_data[1]\n",
    "                spd = round(-(delta_x/delta_t) * 3600, 2) #mph\n",
    "                \n",
    "                \n",
    "            print('\\bdist:{} mi alt:{} speed:{}'.format(round(d, 1), galt, spd))\n",
    "            center = [lat, lon]            \n",
    "            #print(center)\n",
    "            if count%5 == 0:\n",
    "                marker = Marker(location=center, draggable=False)\n",
    "                m.add_layer(marker)\n",
    "    count+=1\n",
    "    t.sleep(1)"
   ]
  },
  {
   "cell_type": "code",
   "execution_count": 21,
   "metadata": {},
   "outputs": [
    {
     "data": {
      "application/vnd.jupyter.widget-view+json": {
       "model_id": "cccd913c6f804bc69deaea624a4feb36",
       "version_major": 2,
       "version_minor": 0
      },
      "text/plain": [
       "Map(basemap={'url': 'https://{s}.tile.openstreetmap.org/{z}/{x}/{y}.png', 'max_zoom': 19, 'attribution': 'Map …"
      ]
     },
     "metadata": {},
     "output_type": "display_data"
    }
   ],
   "source": [
    "from ipyleaflet import Map, basemaps, basemap_to_tiles\n",
    "\n",
    "m = Map(\n",
    "    layers=(basemap_to_tiles(basemaps.NASAGIBS.ModisTerraTrueColorCR, \"2017-04-08\"), ),\n",
    "    center=(52.204793, 360.121558),\n",
    "    zoom=4\n",
    ")\n",
    "\n",
    "m"
   ]
  },
  {
   "cell_type": "code",
   "execution_count": 24,
   "metadata": {},
   "outputs": [
    {
     "data": {
      "application/vnd.jupyter.widget-view+json": {
       "model_id": "e47dfb6c959f4747bfb75d1ba0d2cdfb",
       "version_major": 2,
       "version_minor": 0
      },
      "text/plain": [
       "Map(basemap={'url': 'https://{s}.tile.openstreetmap.org/{z}/{x}/{y}.png', 'max_zoom': 19, 'attribution': 'Map …"
      ]
     },
     "metadata": {},
     "output_type": "display_data"
    }
   ],
   "source": [
    "from ipyleaflet import Marker\n",
    "\n",
    "center = (52.204793, 360.121558)\n",
    "\n",
    "m = Map(center=center, zoom=15)\n",
    "\n",
    "marker = Marker(location=center, draggable=False)\n",
    "m.add_layer(marker);\n",
    "\n",
    "m"
   ]
  },
  {
   "cell_type": "code",
   "execution_count": null,
   "metadata": {
    "collapsed": true
   },
   "outputs": [],
   "source": []
  }
 ],
 "metadata": {
  "kernelspec": {
   "display_name": "Python 3",
   "language": "python",
   "name": "python3"
  },
  "language_info": {
   "codemirror_mode": {
    "name": "ipython",
    "version": 3
   },
   "file_extension": ".py",
   "mimetype": "text/x-python",
   "name": "python",
   "nbconvert_exporter": "python",
   "pygments_lexer": "ipython3",
   "version": "3.6.1"
  }
 },
 "nbformat": 4,
 "nbformat_minor": 2
}
