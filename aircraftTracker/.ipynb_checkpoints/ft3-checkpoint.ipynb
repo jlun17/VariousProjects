{
 "cells": [
  {
   "cell_type": "markdown",
   "metadata": {},
   "source": [
    "### Basic imports and wget function -- needs to be done every session"
   ]
  },
  {
   "cell_type": "code",
   "execution_count": 40,
   "metadata": {
    "collapsed": true
   },
   "outputs": [],
   "source": [
    "from subprocess import call\n",
    "import json\n",
    "import gmaps\n",
    "import os\n",
    "import math\n",
    "\n",
    "gmaps.configure(api_key=os.environ[\"GOOGLE_API_KEY\"])\n",
    "info_box_template = \"\"\"\n",
    "<header>Aircraft {Id}:</header>\n",
    "<dl>\n",
    "<dt>Airline</dt><dd>{Op}</dd>\n",
    "<dt>Model</dt><dd>{Mdl}</dd>\n",
    "<dt>From</dt><dd>{From}</dd>\n",
    "<dt>Destination</dt><dd>{To}</dd>\n",
    "</dl>\n",
    "\"\"\"\n",
    "marker_location = [0,0]\n",
    "\n",
    "def cleanData(data):\n",
    "    for aircraft in data['acList']:\n",
    "        frm = aircraft.get('From', 'no from')\n",
    "        dest = aircraft.get('To', 'no dest')\n",
    "        airline = aircraft.get('Op', 'no airline')\n",
    "        model = aircraft.get('Mdl', 'no model')\n",
    "        if(frm == 'no from'):\n",
    "            aircraft['From'] = 'Not Avaliable'\n",
    "        if(dest == 'no dest'):\n",
    "            aircraft['To'] = 'Not Avaliable'\n",
    "        if(airline == 'no airline'):\n",
    "            aircraft['Op'] = 'Not Avaliable'\n",
    "        if(model == 'no model'):\n",
    "            aircraft['Mdl'] = 'Not Avaliable'\n",
    "\n",
    "def getNewAircraftData(URL, jsonFile):\n",
    "    call([\"wget\", \"-O\", jsonFile, URL])\n",
    "    json_data = open(jsonFile).read()\n",
    "    aircraftData = json.loads(json_data)\n",
    "    return aircraftData\n",
    "\n",
    "def grabData():\n",
    "    URL = \"http://public-api.adsbexchange.com/VirtualRadar/AircraftList.json\"\n",
    "    jsonFile = \"AircraftList.json\"\n",
    "    data = getNewAircraftData(URL, jsonFile)\n",
    "    cleanData(data)\n",
    "    return data\n",
    "\n",
    "def distance(lat1, lon1, lat2, lon2):\n",
    "\n",
    "    rad_e = (3959)\n",
    "    rad_lat1 = math.radians(lat1)\n",
    "    rad_lon1 = math.radians(lon1)\n",
    "    rad_lat2 = math.radians(lat2)\n",
    "    rad_lon2 = math.radians(lon2)\n",
    "\n",
    "    change_in_lat = rad_lat2 - rad_lat1\n",
    "    change_in_lon = rad_lon2 - rad_lon1\n",
    "\n",
    "    a = ((math.sin(change_in_lat/2)**2)+(math.cos(rad_lat1)*(math.cos(rad_lat2))*(math.sin(change_in_lon/2)**2)))\n",
    "    c = 2*math.atan2(math.sqrt(a), math.sqrt(1-a))\n",
    "    d = rad_e * c\n",
    "    return d\n",
    "\n",
    "data = grabData()"
   ]
  },
  {
   "cell_type": "markdown",
   "metadata": {},
   "source": [
    "### Tracks aircraft in a \"square\" around a center point"
   ]
  },
  {
   "cell_type": "code",
   "execution_count": 16,
   "metadata": {},
   "outputs": [
    {
     "name": "stdout",
     "output_type": "stream",
     "text": [
      "90\n"
     ]
    },
    {
     "data": {
      "application/vnd.jupyter.widget-view+json": {
       "model_id": "cee63525e70242e8b2cf5d29f177e2bd",
       "version_major": 2,
       "version_minor": 0
      },
      "text/plain": [
       "Figure(layout=FigureLayout(height='420px'))"
      ]
     },
     "metadata": {},
     "output_type": "display_data"
    }
   ],
   "source": [
    "lovelandSkiArea = (39.680395, -105.897961)\n",
    "myHouse = (39.921991, -104.955664)\n",
    "grab_data = True\n",
    "if(grab_data):\n",
    "    data = grabData()\n",
    "center_point = lovelandSkiArea\n",
    "dist = 2 ##+/- lat/lon cordanants\n",
    "count = 0\n",
    "map = gmaps.figure(center=center_point, zoom_level=10, map_type='HYBRID')\n",
    "for aircraft in data['acList']:\n",
    "    lat = aircraft.get('Lat', 'no lat')\n",
    "    lon = aircraft.get('Long', 'no lon')\n",
    "    if(lat == 'no lat' or lon == 'no lon'):\n",
    "        continue\n",
    "    if((lat > (center_point[0] - dist)) and (lat < (center_point[0] + dist))):\n",
    "        if((lon > (center_point[1] - dist)) and (lon < (center_point[1] + dist))):\n",
    "            marker_location[0] = lat\n",
    "            marker_location[1] = lon\n",
    "            aircraft_info = [info_box_template.format(**aircraft)]\n",
    "            marker = gmaps.marker_layer([marker_location], info_box_content=aircraft_info)\n",
    "            map.add_layer(marker)\n",
    "            count += 1\n",
    "print(count)\n",
    "\n",
    "map\n"
   ]
  },
  {
   "cell_type": "markdown",
   "metadata": {},
   "source": [
    "### Targets a single airline"
   ]
  },
  {
   "cell_type": "code",
   "execution_count": 10,
   "metadata": {},
   "outputs": [
    {
     "data": {
      "application/vnd.jupyter.widget-view+json": {
       "model_id": "dd4248fba5e44aad9d7c66d8ecf58737",
       "version_major": 2,
       "version_minor": 0
      },
      "text/plain": [
       "Figure(layout=FigureLayout(height='420px'))"
      ]
     },
     "metadata": {},
     "output_type": "display_data"
    }
   ],
   "source": [
    "grab_data = True\n",
    "if(grab_data):\n",
    "    data = grabData()\n",
    "target_airline = 'United Airlines'\n",
    "map = gmaps.figure(map_type='HYBRID')\n",
    "for aircraft in data['acList']:\n",
    "    airline = aircraft.get('Op', 'no airline')\n",
    "    lat = aircraft.get('Lat', 'no lat')\n",
    "    lon = aircraft.get('Long', 'no lon')\n",
    "    if(lat == 'no lat' or lon == 'no lon'):\n",
    "        continue\n",
    "    if(airline.lower().__contains__(target_airline.lower())):\n",
    "        marker_location[0] = lat\n",
    "        marker_location[1] = lon\n",
    "        aircraft_info = [info_box_template.format(**aircraft)]\n",
    "        marker = gmaps.marker_layer([marker_location], info_box_content=aircraft_info)\n",
    "        map.add_layer(marker)\n",
    "\n",
    "map\n"
   ]
  },
  {
   "cell_type": "markdown",
   "metadata": {},
   "source": [
    "### Library of airports"
   ]
  },
  {
   "cell_type": "code",
   "execution_count": 2,
   "metadata": {
    "collapsed": true
   },
   "outputs": [],
   "source": [
    "DIA = 'KDEN Denver, United States'\n",
    "MSP = 'KMSP Minneapolis-St Paul International/Wold-Chamberlain, Minneapolis, United States'\n",
    "LAX = 'KLAX Los Angeles, United States'\n",
    "SFO = 'KSFO San Francisco, United States'\n",
    "LGA = 'KLGA La Guardia, New York, United States'\n",
    "EWR = 'KEWR Newark Liberty, United States'\n",
    "DUB = 'EIDW Dublin, Ireland'\n",
    "MDW = 'KMDW Chicago Midway, United States'\n",
    "ORD = 'KORD Chicago O\\'Hare, United States'\n",
    "SAT = 'KSAT San Antonio, United States'\n",
    "SAN = 'KSAN San Diego, United States'\n",
    "IAD = 'KIAD Washington Dulles, United States'\n",
    "MCO = 'KMCO Orlando, United States'\n",
    "DTW = 'KDTW Detroit Metropolitan Wayne County, United States'"
   ]
  },
  {
   "cell_type": "markdown",
   "metadata": {
    "collapsed": true
   },
   "source": [
    "### Targets the destination airport only"
   ]
  },
  {
   "cell_type": "code",
   "execution_count": 6,
   "metadata": {},
   "outputs": [
    {
     "data": {
      "application/vnd.jupyter.widget-view+json": {
       "model_id": "ebcae01764e24984aface8a998970af5",
       "version_major": 2,
       "version_minor": 0
      },
      "text/plain": [
       "Figure(layout=FigureLayout(height='420px'))"
      ]
     },
     "metadata": {},
     "output_type": "display_data"
    }
   ],
   "source": [
    "grab_data = True\n",
    "if(grab_data):\n",
    "    data = grabData()\n",
    "target_dest = EWR\n",
    "map = gmaps.figure(map_type='HYBRID')\n",
    "for aircraft in data['acList']:\n",
    "    dest = aircraft.get('To', 'no dest')\n",
    "    lat = aircraft.get('Lat', 'no lat')\n",
    "    lon = aircraft.get('Long', 'no lon')\n",
    "    if(lat == 'no lat' or lon == 'no lon'):\n",
    "        continue\n",
    "    if(dest == target_dest):\n",
    "        marker_location[0] = lat\n",
    "        marker_location[1] = lon\n",
    "        aircraft_info = [info_box_template.format(**aircraft)]\n",
    "        marker = gmaps.marker_layer([marker_location], info_box_content=aircraft_info)\n",
    "        map.add_layer(marker)\n",
    "\n",
    "map\n"
   ]
  },
  {
   "cell_type": "markdown",
   "metadata": {},
   "source": [
    "### Targets the airport left from only"
   ]
  },
  {
   "cell_type": "code",
   "execution_count": 5,
   "metadata": {},
   "outputs": [
    {
     "data": {
      "application/vnd.jupyter.widget-view+json": {
       "model_id": "a599d692aff244e3b0216ce51f889db5",
       "version_major": 2,
       "version_minor": 0
      },
      "text/plain": [
       "Figure(layout=FigureLayout(height='420px'))"
      ]
     },
     "metadata": {},
     "output_type": "display_data"
    }
   ],
   "source": [
    "grab_data = True\n",
    "if(grab_data):\n",
    "    data = grabData()\n",
    "target_from = DUB\n",
    "map = gmaps.figure(map_type='HYBRID')\n",
    "for aircraft in data['acList']:\n",
    "    frm = aircraft.get('From', 'no frm')\n",
    "    lat = aircraft.get('Lat', 'no lat')\n",
    "    lon = aircraft.get('Long', 'no lon')\n",
    "    if(lat == 'no lat' or lon == 'no lon'):\n",
    "        continue\n",
    "    if(frm == target_from):\n",
    "        marker_location[0] = lat\n",
    "        marker_location[1] = lon\n",
    "        aircraft_info = [info_box_template.format(**aircraft)]\n",
    "        marker = gmaps.marker_layer([marker_location], info_box_content=aircraft_info)\n",
    "        map.add_layer(marker)\n",
    "\n",
    "map\n"
   ]
  },
  {
   "cell_type": "markdown",
   "metadata": {},
   "source": [
    "### Targets aircraft to AND from somewhere"
   ]
  },
  {
   "cell_type": "code",
   "execution_count": 7,
   "metadata": {},
   "outputs": [
    {
     "data": {
      "application/vnd.jupyter.widget-view+json": {
       "model_id": "0d8ef5f2abab49d2983c9efe8c898a55",
       "version_major": 2,
       "version_minor": 0
      },
      "text/plain": [
       "Figure(layout=FigureLayout(height='420px'))"
      ]
     },
     "metadata": {},
     "output_type": "display_data"
    }
   ],
   "source": [
    "grab_data = True\n",
    "if(grab_data):\n",
    "    data = grabData()\n",
    "target_from = DUB\n",
    "target_dest = EWR\n",
    "map = gmaps.figure(map_type='HYBRID')\n",
    "for aircraft in data['acList']:\n",
    "    dest = aircraft.get('To', 'no dest')\n",
    "    frm = aircraft.get('From', 'no frm')\n",
    "    lat = aircraft.get('Lat', 'no lat')\n",
    "    lon = aircraft.get('Long', 'no lon')\n",
    "    if(lat == 'no lat' or lon == 'no lon'):\n",
    "        continue\n",
    "    if(frm == target_from and dest == target_dest):\n",
    "        marker_location[0] = lat\n",
    "        marker_location[1] = lon\n",
    "        aircraft_info = [info_box_template.format(**aircraft)]\n",
    "        marker = gmaps.marker_layer([marker_location], info_box_content=aircraft_info)\n",
    "        map.add_layer(marker)\n",
    "\n",
    "map\n"
   ]
  },
  {
   "cell_type": "markdown",
   "metadata": {
    "collapsed": true
   },
   "source": [
    "### Targets an aircraft by ID"
   ]
  },
  {
   "cell_type": "code",
   "execution_count": 76,
   "metadata": {},
   "outputs": [
    {
     "name": "stdout",
     "output_type": "stream",
     "text": [
      "0.2724 miles to go\n",
      "Altitude: 35975\n"
     ]
    },
    {
     "data": {
      "application/vnd.jupyter.widget-view+json": {
       "model_id": "5d55d29fab634b33ab861a66359a8458",
       "version_major": 2,
       "version_minor": 0
      },
      "text/plain": [
       "Figure(layout=FigureLayout(height='420px'))"
      ]
     },
     "metadata": {},
     "output_type": "display_data"
    }
   ],
   "source": [
    "grab_data = True\n",
    "if(grab_data):\n",
    "    data = grabData()\n",
    "target_ID = 11043071\n",
    "alt = 0\n",
    "map = gmaps.figure(map_type='HYBRID')\n",
    "for aircraft in data['acList']:\n",
    "    ID = aircraft.get('Id', 'no id')\n",
    "    lat = aircraft.get('Lat', 'no lat')\n",
    "    lon = aircraft.get('Long', 'no lon')\n",
    "    alt = aircraft.get('Alt', 'no alt')\n",
    "    if(lat == 'no lat' or lon == 'no lon'):\n",
    "        continue\n",
    "    if(ID == target_ID):\n",
    "        marker_location[0] = lat\n",
    "        marker_location[1] = lon\n",
    "        map = gmaps.figure(map_type='HYBRID', center=marker_location, zoom_level=12)\n",
    "        aircraft_info = [info_box_template.format(**aircraft)]\n",
    "        marker = gmaps.marker_layer([marker_location], info_box_content=aircraft_info)\n",
    "        map.add_layer(marker)\n",
    "     \n",
    "EWR_Loc = [40.691789, -74.173604]\n",
    "airportMarker = gmaps.marker_layer([EWR_Loc])\n",
    "map.add_layer(airportMarker)\n",
    "\n",
    "dist = distance(EWR_Loc[0], EWR_Loc[1], marker_location[0], marker_location[1])\n",
    "\n",
    "print(round(dist, 4), 'miles to go')\n",
    "print('Altitude:', alt)\n",
    "\n",
    "map\n"
   ]
  },
  {
   "cell_type": "markdown",
   "metadata": {},
   "source": [
    "### Targets an aircraft model"
   ]
  },
  {
   "cell_type": "code",
   "execution_count": 49,
   "metadata": {},
   "outputs": [
    {
     "data": {
      "application/vnd.jupyter.widget-view+json": {
       "model_id": "8379b12b5f994229a24c919bf6ff44a0",
       "version_major": 2,
       "version_minor": 0
      },
      "text/plain": [
       "Figure(layout=FigureLayout(height='420px'))"
      ]
     },
     "metadata": {},
     "output_type": "display_data"
    }
   ],
   "source": [
    "grab_data = True\n",
    "if(grab_data):\n",
    "    data = grabData()\n",
    "target_model = 'Boeing 767-322'\n",
    "map = gmaps.figure(map_type='HYBRID')\n",
    "for aircraft in data['acList']:\n",
    "    model = aircraft.get('Mdl', 'no mdl')\n",
    "    lat = aircraft.get('Lat', 'no lat')\n",
    "    lon = aircraft.get('Long', 'no lon')\n",
    "    if(lat == 'no lat' or lon == 'no lon'):\n",
    "        continue\n",
    "    if(model.lower().__contains__(target_model.lower())):\n",
    "        marker_location[0] = lat\n",
    "        marker_location[1] = lon\n",
    "        aircraft_info = [info_box_template.format(**aircraft)]\n",
    "        marker = gmaps.marker_layer([marker_location], info_box_content=aircraft_info)\n",
    "        map.add_layer(marker)\n",
    "\n",
    "map\n"
   ]
  },
  {
   "cell_type": "code",
   "execution_count": null,
   "metadata": {
    "collapsed": true
   },
   "outputs": [],
   "source": []
  }
 ],
 "metadata": {
  "kernelspec": {
   "display_name": "Python 3",
   "language": "python",
   "name": "python3"
  },
  "language_info": {
   "codemirror_mode": {
    "name": "ipython",
    "version": 3
   },
   "file_extension": ".py",
   "mimetype": "text/x-python",
   "name": "python",
   "nbconvert_exporter": "python",
   "pygments_lexer": "ipython3",
   "version": "3.6.7"
  }
 },
 "nbformat": 4,
 "nbformat_minor": 2
}
