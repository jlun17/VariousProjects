{
 "cells": [
  {
   "cell_type": "code",
   "execution_count": 129,
   "metadata": {},
   "outputs": [
    {
     "name": "stdout",
     "output_type": "stream",
     "text": [
      "https://denver.craigslist.org/search/cto?auto_title_status=1&max_auto_miles=100000&max_price=10000&auto_make_model=subaru+outback&searchNearby=2&nearbyArea=319&nearbyArea=210&nearbyArea=713&nearbyArea=287&nearbyArea=288\n"
     ]
    }
   ],
   "source": [
    "import requests\n",
    "import bs4\n",
    "\n",
    "## params\n",
    "url = 'https://denver.craigslist.org/search/cto?auto_title_status=1'\n",
    "\n",
    "searchNearby = True\n",
    "boulder = True #319\n",
    "coSprings = True #210\n",
    "eastCo = True #713\n",
    "foco = True #287\n",
    "highRocks = True #288\n",
    "\n",
    "makeModel = True\n",
    "make = 'subaru'\n",
    "model = 'outback'\n",
    "\n",
    "price = True\n",
    "maxPrice = '10000'\n",
    "\n",
    "odometer = True\n",
    "maxOdo = '100000'\n",
    "\n",
    "yearRange = False\n",
    "minYear = ''\n",
    "maxYear = '2020'\n",
    "\n",
    "if(yearRange):\n",
    "    url += '&min_auto_year=' + minYear + '&max_auto_year=' + maxYear\n",
    "if(odometer):\n",
    "    url += '&max_auto_miles=' + maxOdo\n",
    "if(price):\n",
    "    url += '&max_price=' + maxPrice\n",
    "if(makeModel):\n",
    "    url += '&auto_make_model=' + make + '+' + model\n",
    "if(searchNearby):\n",
    "    url += '&searchNearby=2'\n",
    "if(boulder):\n",
    "    url += '&nearbyArea=319'\n",
    "if(coSprings):\n",
    "    url += '&nearbyArea=210'\n",
    "if(eastCo):\n",
    "    url += '&nearbyArea=713'\n",
    "if(foco):\n",
    "    url += '&nearbyArea=287'\n",
    "if(highRocks):\n",
    "    url += '&nearbyArea=288'\n",
    "\n",
    "print(url)"
   ]
  },
  {
   "cell_type": "code",
   "execution_count": 109,
   "metadata": {},
   "outputs": [],
   "source": [
    "res = requests.get(url)"
   ]
  },
  {
   "cell_type": "code",
   "execution_count": 128,
   "metadata": {
    "scrolled": false
   },
   "outputs": [
    {
     "name": "stdout",
     "output_type": "stream",
     "text": [
      "12\n",
      "https://denver.craigslist.org/cto/d/aurora-2002-subaru-outback-limited/6917931382.html\n",
      "https://denver.craigslist.org/cto/d/aurora-2002-subaru-outback-limited/6917931382.html\n",
      "https://denver.craigslist.org/cto/d/westminster-2006-subaru-outback-awd/6915227901.html\n",
      "https://denver.craigslist.org/cto/d/westminster-2006-subaru-outback-awd/6915227901.html\n",
      "https://denver.craigslist.org/cto/d/aurora-2009-subaru-outback-xt-25i/6915204349.html\n",
      "https://denver.craigslist.org/cto/d/aurora-2009-subaru-outback-xt-25i/6915204349.html\n",
      "https://denver.craigslist.org/cto/d/littleton-2005-subaru-legacy-limited/6914930677.html\n",
      "https://denver.craigslist.org/cto/d/littleton-2005-subaru-legacy-limited/6914930677.html\n",
      "https://denver.craigslist.org/cto/d/denver-2009-subaru-outback-manual/6912992357.html\n",
      "https://denver.craigslist.org/cto/d/denver-2009-subaru-outback-manual/6912992357.html\n",
      "https://denver.craigslist.org/cto/d/denver-2009-subaru-outback-xt-25i/6898791359.html\n",
      "https://denver.craigslist.org/cto/d/denver-2009-subaru-outback-xt-25i/6898791359.html\n"
     ]
    }
   ],
   "source": [
    "res = requests.get(url)\n",
    "soup = bs4.BeautifulSoup(res.text , 'html.parser')\n",
    "cars = soup.find_all('a')\n",
    "links = []\n",
    "for car in cars:\n",
    "    if('https://denver.craigslist.org/cto' in car.get('href')):\n",
    "        links.append(car.get('href'))\n",
    "        #carRes = requests.get(car.get('href'))\n",
    "        #carSoup = bs4.BeautifulSoup(carRes.text, 'html.parser')\n",
    "        #title = carSoup.title.string\n",
    "        #print(title)\n",
    "print(len(links))\n",
    "for i in range(len(links)):\n",
    "    print(links[i])"
   ]
  },
  {
   "cell_type": "code",
   "execution_count": null,
   "metadata": {
    "collapsed": true
   },
   "outputs": [],
   "source": []
  }
 ],
 "metadata": {
  "kernelspec": {
   "display_name": "Python 3",
   "language": "python",
   "name": "python3"
  },
  "language_info": {
   "codemirror_mode": {
    "name": "ipython",
    "version": 3
   },
   "file_extension": ".py",
   "mimetype": "text/x-python",
   "name": "python",
   "nbconvert_exporter": "python",
   "pygments_lexer": "ipython3",
   "version": "3.6.6"
  }
 },
 "nbformat": 4,
 "nbformat_minor": 2
}
